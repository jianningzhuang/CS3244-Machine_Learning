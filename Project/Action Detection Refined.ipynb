{
 "cells": [
  {
   "cell_type": "markdown",
   "metadata": {},
   "source": [
    "# 1. Import and Install Dependencies"
   ]
  },
  {
   "cell_type": "code",
   "execution_count": 1,
   "metadata": {},
   "outputs": [
    {
     "name": "stdout",
     "output_type": "stream",
     "text": [
      "Requirement already satisfied: tensorflow==2.7.1 in c:\\users\\jianning\\anaconda3\\lib\\site-packages (2.7.1)\n",
      "Requirement already satisfied: tensorflow-gpu==2.7.1 in c:\\users\\jianning\\anaconda3\\lib\\site-packages (2.7.1)\n",
      "Requirement already satisfied: opencv-python in c:\\users\\jianning\\anaconda3\\lib\\site-packages (4.5.5.64)\n",
      "Requirement already satisfied: mediapipe in c:\\users\\jianning\\anaconda3\\lib\\site-packages (0.8.9.1)\n",
      "Requirement already satisfied: sklearn in c:\\users\\jianning\\anaconda3\\lib\\site-packages (0.0)\n",
      "Requirement already satisfied: matplotlib in c:\\users\\jianning\\anaconda3\\lib\\site-packages (3.4.3)\n",
      "Requirement already satisfied: google-pasta>=0.1.1 in c:\\users\\jianning\\anaconda3\\lib\\site-packages (from tensorflow==2.7.1) (0.2.0)\n",
      "Requirement already satisfied: absl-py>=0.4.0 in c:\\users\\jianning\\anaconda3\\lib\\site-packages (from tensorflow==2.7.1) (0.15.0)\n",
      "Requirement already satisfied: astunparse>=1.6.0 in c:\\users\\jianning\\anaconda3\\lib\\site-packages (from tensorflow==2.7.1) (1.6.3)\n",
      "Requirement already satisfied: termcolor>=1.1.0 in c:\\users\\jianning\\anaconda3\\lib\\site-packages (from tensorflow==2.7.1) (1.1.0)\n",
      "Requirement already satisfied: tensorflow-estimator<2.8,~=2.7.0rc0 in c:\\users\\jianning\\anaconda3\\lib\\site-packages (from tensorflow==2.7.1) (2.7.0)\n",
      "Requirement already satisfied: grpcio<2.0,>=1.24.3 in c:\\users\\jianning\\anaconda3\\lib\\site-packages (from tensorflow==2.7.1) (1.34.1)\n",
      "Requirement already satisfied: keras-preprocessing>=1.1.1 in c:\\users\\jianning\\anaconda3\\lib\\site-packages (from tensorflow==2.7.1) (1.1.2)\n",
      "Requirement already satisfied: six>=1.12.0 in c:\\users\\jianning\\anaconda3\\lib\\site-packages (from tensorflow==2.7.1) (1.15.0)\n",
      "Requirement already satisfied: numpy>=1.14.5 in c:\\users\\jianning\\anaconda3\\lib\\site-packages (from tensorflow==2.7.1) (1.22.3)\n",
      "Requirement already satisfied: wheel<1.0,>=0.32.0 in c:\\users\\jianning\\anaconda3\\lib\\site-packages (from tensorflow==2.7.1) (0.37.0)\n",
      "Requirement already satisfied: protobuf>=3.9.2 in c:\\users\\jianning\\anaconda3\\lib\\site-packages (from tensorflow==2.7.1) (3.19.4)\n",
      "Requirement already satisfied: flatbuffers<3.0,>=1.12 in c:\\users\\jianning\\anaconda3\\lib\\site-packages (from tensorflow==2.7.1) (1.12)\n",
      "Requirement already satisfied: libclang>=9.0.1 in c:\\users\\jianning\\anaconda3\\lib\\site-packages (from tensorflow==2.7.1) (13.0.0)\n",
      "Requirement already satisfied: tensorflow-io-gcs-filesystem>=0.21.0 in c:\\users\\jianning\\anaconda3\\lib\\site-packages (from tensorflow==2.7.1) (0.24.0)\n",
      "Requirement already satisfied: wrapt>=1.11.0 in c:\\users\\jianning\\anaconda3\\lib\\site-packages (from tensorflow==2.7.1) (1.12.1)\n",
      "Requirement already satisfied: gast<0.5.0,>=0.2.1 in c:\\users\\jianning\\anaconda3\\lib\\site-packages (from tensorflow==2.7.1) (0.4.0)\n",
      "Requirement already satisfied: tensorboard~=2.6 in c:\\users\\jianning\\anaconda3\\lib\\site-packages (from tensorflow==2.7.1) (2.8.0)\n",
      "Requirement already satisfied: h5py>=2.9.0 in c:\\users\\jianning\\anaconda3\\lib\\site-packages (from tensorflow==2.7.1) (3.1.0)\n",
      "Requirement already satisfied: opt-einsum>=2.3.2 in c:\\users\\jianning\\anaconda3\\lib\\site-packages (from tensorflow==2.7.1) (3.3.0)\n",
      "Requirement already satisfied: keras<2.8,>=2.7.0rc0 in c:\\users\\jianning\\anaconda3\\lib\\site-packages (from tensorflow==2.7.1) (2.7.0)\n",
      "Requirement already satisfied: typing-extensions>=3.6.6 in c:\\users\\jianning\\anaconda3\\lib\\site-packages (from tensorflow==2.7.1) (3.7.4.3)\n",
      "Requirement already satisfied: attrs>=19.1.0 in c:\\users\\jianning\\anaconda3\\lib\\site-packages (from mediapipe) (21.2.0)\n",
      "Requirement already satisfied: opencv-contrib-python in c:\\users\\jianning\\anaconda3\\lib\\site-packages (from mediapipe) (4.5.5.64)\n",
      "Requirement already satisfied: scikit-learn in c:\\users\\jianning\\anaconda3\\lib\\site-packages (from sklearn) (0.24.2)\n",
      "Requirement already satisfied: python-dateutil>=2.7 in c:\\users\\jianning\\anaconda3\\lib\\site-packages (from matplotlib) (2.8.2)\n",
      "Requirement already satisfied: pyparsing>=2.2.1 in c:\\users\\jianning\\anaconda3\\lib\\site-packages (from matplotlib) (3.0.4)\n",
      "Requirement already satisfied: pillow>=6.2.0 in c:\\users\\jianning\\anaconda3\\lib\\site-packages (from matplotlib) (8.4.0)\n",
      "Requirement already satisfied: kiwisolver>=1.0.1 in c:\\users\\jianning\\anaconda3\\lib\\site-packages (from matplotlib) (1.3.1)\n",
      "Requirement already satisfied: cycler>=0.10 in c:\\users\\jianning\\anaconda3\\lib\\site-packages (from matplotlib) (0.10.0)\n",
      "Requirement already satisfied: markdown>=2.6.8 in c:\\users\\jianning\\anaconda3\\lib\\site-packages (from tensorboard~=2.6->tensorflow==2.7.1) (3.3.6)\n",
      "Requirement already satisfied: werkzeug>=0.11.15 in c:\\users\\jianning\\anaconda3\\lib\\site-packages (from tensorboard~=2.6->tensorflow==2.7.1) (2.0.2)\n",
      "Requirement already satisfied: setuptools>=41.0.0 in c:\\users\\jianning\\anaconda3\\lib\\site-packages (from tensorboard~=2.6->tensorflow==2.7.1) (58.0.4)\n",
      "Requirement already satisfied: tensorboard-data-server<0.7.0,>=0.6.0 in c:\\users\\jianning\\anaconda3\\lib\\site-packages (from tensorboard~=2.6->tensorflow==2.7.1) (0.6.1)\n",
      "Requirement already satisfied: tensorboard-plugin-wit>=1.6.0 in c:\\users\\jianning\\anaconda3\\lib\\site-packages (from tensorboard~=2.6->tensorflow==2.7.1) (1.8.1)\n",
      "Requirement already satisfied: google-auth-oauthlib<0.5,>=0.4.1 in c:\\users\\jianning\\anaconda3\\lib\\site-packages (from tensorboard~=2.6->tensorflow==2.7.1) (0.4.6)\n",
      "Requirement already satisfied: google-auth<3,>=1.6.3 in c:\\users\\jianning\\anaconda3\\lib\\site-packages (from tensorboard~=2.6->tensorflow==2.7.1) (2.6.2)\n",
      "Requirement already satisfied: requests<3,>=2.21.0 in c:\\users\\jianning\\anaconda3\\lib\\site-packages (from tensorboard~=2.6->tensorflow==2.7.1) (2.26.0)\n",
      "Requirement already satisfied: cachetools<6.0,>=2.0.0 in c:\\users\\jianning\\anaconda3\\lib\\site-packages (from google-auth<3,>=1.6.3->tensorboard~=2.6->tensorflow==2.7.1) (5.0.0)\n",
      "Requirement already satisfied: pyasn1-modules>=0.2.1 in c:\\users\\jianning\\anaconda3\\lib\\site-packages (from google-auth<3,>=1.6.3->tensorboard~=2.6->tensorflow==2.7.1) (0.2.8)\n",
      "Requirement already satisfied: rsa<5,>=3.1.4 in c:\\users\\jianning\\anaconda3\\lib\\site-packages (from google-auth<3,>=1.6.3->tensorboard~=2.6->tensorflow==2.7.1) (4.8)\n",
      "Requirement already satisfied: requests-oauthlib>=0.7.0 in c:\\users\\jianning\\anaconda3\\lib\\site-packages (from google-auth-oauthlib<0.5,>=0.4.1->tensorboard~=2.6->tensorflow==2.7.1) (1.3.1)\n",
      "Requirement already satisfied: importlib-metadata>=4.4 in c:\\users\\jianning\\anaconda3\\lib\\site-packages (from markdown>=2.6.8->tensorboard~=2.6->tensorflow==2.7.1) (4.8.1)\n",
      "Requirement already satisfied: zipp>=0.5 in c:\\users\\jianning\\anaconda3\\lib\\site-packages (from importlib-metadata>=4.4->markdown>=2.6.8->tensorboard~=2.6->tensorflow==2.7.1) (3.6.0)\n",
      "Requirement already satisfied: pyasn1<0.5.0,>=0.4.6 in c:\\users\\jianning\\anaconda3\\lib\\site-packages (from pyasn1-modules>=0.2.1->google-auth<3,>=1.6.3->tensorboard~=2.6->tensorflow==2.7.1) (0.4.8)\n",
      "Requirement already satisfied: urllib3<1.27,>=1.21.1 in c:\\users\\jianning\\anaconda3\\lib\\site-packages (from requests<3,>=2.21.0->tensorboard~=2.6->tensorflow==2.7.1) (1.26.7)\n",
      "Requirement already satisfied: charset-normalizer~=2.0.0 in c:\\users\\jianning\\anaconda3\\lib\\site-packages (from requests<3,>=2.21.0->tensorboard~=2.6->tensorflow==2.7.1) (2.0.4)\n",
      "Requirement already satisfied: idna<4,>=2.5 in c:\\users\\jianning\\anaconda3\\lib\\site-packages (from requests<3,>=2.21.0->tensorboard~=2.6->tensorflow==2.7.1) (3.2)\n",
      "Requirement already satisfied: certifi>=2017.4.17 in c:\\users\\jianning\\anaconda3\\lib\\site-packages (from requests<3,>=2.21.0->tensorboard~=2.6->tensorflow==2.7.1) (2021.10.8)\n",
      "Requirement already satisfied: oauthlib>=3.0.0 in c:\\users\\jianning\\anaconda3\\lib\\site-packages (from requests-oauthlib>=0.7.0->google-auth-oauthlib<0.5,>=0.4.1->tensorboard~=2.6->tensorflow==2.7.1) (3.2.0)\n",
      "Requirement already satisfied: threadpoolctl>=2.0.0 in c:\\users\\jianning\\anaconda3\\lib\\site-packages (from scikit-learn->sklearn) (2.2.0)\n",
      "Requirement already satisfied: joblib>=0.11 in c:\\users\\jianning\\anaconda3\\lib\\site-packages (from scikit-learn->sklearn) (1.1.0)\n",
      "Requirement already satisfied: scipy>=0.19.1 in c:\\users\\jianning\\anaconda3\\lib\\site-packages (from scikit-learn->sklearn) (1.7.1)\n"
     ]
    }
   ],
   "source": [
    "!pip install tensorflow==2.7.1 tensorflow-gpu==2.7.1 opencv-python mediapipe sklearn matplotlib"
   ]
  },
  {
   "cell_type": "code",
   "execution_count": 2,
   "metadata": {},
   "outputs": [],
   "source": [
    "import cv2\n",
    "import numpy as np\n",
    "import os\n",
    "from matplotlib import pyplot as plt\n",
    "import time\n",
    "import mediapipe as mp"
   ]
  },
  {
   "cell_type": "markdown",
   "metadata": {},
   "source": [
    "# 2. Keypoints using MP Holistic"
   ]
  },
  {
   "cell_type": "code",
   "execution_count": 3,
   "metadata": {},
   "outputs": [],
   "source": [
    "mp_holistic = mp.solutions.holistic # Holistic model\n",
    "mp_drawing = mp.solutions.drawing_utils # Drawing utilities"
   ]
  },
  {
   "cell_type": "code",
   "execution_count": 4,
   "metadata": {},
   "outputs": [],
   "source": [
    "def mediapipe_detection(image, model):\n",
    "    image = cv2.cvtColor(image, cv2.COLOR_BGR2RGB) # COLOR CONVERSION BGR 2 RGB\n",
    "    image.flags.writeable = False                  # Image is no longer writeable\n",
    "    results = model.process(image)                 # Make prediction\n",
    "    image.flags.writeable = True                   # Image is now writeable \n",
    "    image = cv2.cvtColor(image, cv2.COLOR_RGB2BGR) # COLOR COVERSION RGB 2 BGR\n",
    "    return image, results"
   ]
  },
  {
   "cell_type": "code",
   "execution_count": 5,
   "metadata": {},
   "outputs": [],
   "source": [
    "def draw_landmarks(image, results):\n",
    "    mp_drawing.draw_landmarks(image, results.face_landmarks, mp_holistic.FACEMESH_TESSELATION) # Draw face connections\n",
    "    mp_drawing.draw_landmarks(image, results.pose_landmarks, mp_holistic.POSE_CONNECTIONS) # Draw pose connections\n",
    "    mp_drawing.draw_landmarks(image, results.left_hand_landmarks, mp_holistic.HAND_CONNECTIONS) # Draw left hand connections\n",
    "    mp_drawing.draw_landmarks(image, results.right_hand_landmarks, mp_holistic.HAND_CONNECTIONS) # Draw right hand connections"
   ]
  },
  {
   "cell_type": "code",
   "execution_count": 6,
   "metadata": {},
   "outputs": [],
   "source": [
    "def draw_styled_landmarks(image, results):\n",
    "    # Draw face connections\n",
    "    mp_drawing.draw_landmarks(image, results.face_landmarks, mp_holistic.FACEMESH_TESSELATION, \n",
    "                             mp_drawing.DrawingSpec(color=(80,110,10), thickness=1, circle_radius=1), \n",
    "                             mp_drawing.DrawingSpec(color=(80,256,121), thickness=1, circle_radius=1)\n",
    "                             ) \n",
    "    # Draw pose connections\n",
    "    mp_drawing.draw_landmarks(image, results.pose_landmarks, mp_holistic.POSE_CONNECTIONS,\n",
    "                             mp_drawing.DrawingSpec(color=(80,22,10), thickness=2, circle_radius=4), \n",
    "                             mp_drawing.DrawingSpec(color=(80,44,121), thickness=2, circle_radius=2)\n",
    "                             ) \n",
    "    # Draw left hand connections\n",
    "    mp_drawing.draw_landmarks(image, results.left_hand_landmarks, mp_holistic.HAND_CONNECTIONS, \n",
    "                             mp_drawing.DrawingSpec(color=(121,22,76), thickness=2, circle_radius=4), \n",
    "                             mp_drawing.DrawingSpec(color=(121,44,250), thickness=2, circle_radius=2)\n",
    "                             ) \n",
    "    # Draw right hand connections  \n",
    "    mp_drawing.draw_landmarks(image, results.right_hand_landmarks, mp_holistic.HAND_CONNECTIONS, \n",
    "                             mp_drawing.DrawingSpec(color=(245,117,66), thickness=2, circle_radius=4), \n",
    "                             mp_drawing.DrawingSpec(color=(245,66,230), thickness=2, circle_radius=2)\n",
    "                             ) "
   ]
  },
  {
   "cell_type": "code",
   "execution_count": 10,
   "metadata": {},
   "outputs": [
    {
     "name": "stdout",
     "output_type": "stream",
     "text": [
      "<class 'mediapipe.python.solution_base.SolutionOutputs'>\n",
      "<class 'mediapipe.python.solution_base.SolutionOutputs'>\n",
      "<class 'mediapipe.python.solution_base.SolutionOutputs'>\n",
      "<class 'mediapipe.python.solution_base.SolutionOutputs'>\n",
      "<class 'mediapipe.python.solution_base.SolutionOutputs'>\n",
      "<class 'mediapipe.python.solution_base.SolutionOutputs'>\n",
      "<class 'mediapipe.python.solution_base.SolutionOutputs'>\n",
      "<class 'mediapipe.python.solution_base.SolutionOutputs'>\n",
      "<class 'mediapipe.python.solution_base.SolutionOutputs'>\n",
      "<class 'mediapipe.python.solution_base.SolutionOutputs'>\n",
      "<class 'mediapipe.python.solution_base.SolutionOutputs'>\n",
      "<class 'mediapipe.python.solution_base.SolutionOutputs'>\n",
      "<class 'mediapipe.python.solution_base.SolutionOutputs'>\n",
      "<class 'mediapipe.python.solution_base.SolutionOutputs'>\n",
      "<class 'mediapipe.python.solution_base.SolutionOutputs'>\n",
      "<class 'mediapipe.python.solution_base.SolutionOutputs'>\n",
      "<class 'mediapipe.python.solution_base.SolutionOutputs'>\n",
      "<class 'mediapipe.python.solution_base.SolutionOutputs'>\n",
      "<class 'mediapipe.python.solution_base.SolutionOutputs'>\n",
      "<class 'mediapipe.python.solution_base.SolutionOutputs'>\n",
      "<class 'mediapipe.python.solution_base.SolutionOutputs'>\n",
      "<class 'mediapipe.python.solution_base.SolutionOutputs'>\n",
      "<class 'mediapipe.python.solution_base.SolutionOutputs'>\n",
      "<class 'mediapipe.python.solution_base.SolutionOutputs'>\n",
      "<class 'mediapipe.python.solution_base.SolutionOutputs'>\n",
      "<class 'mediapipe.python.solution_base.SolutionOutputs'>\n",
      "<class 'mediapipe.python.solution_base.SolutionOutputs'>\n",
      "<class 'mediapipe.python.solution_base.SolutionOutputs'>\n",
      "<class 'mediapipe.python.solution_base.SolutionOutputs'>\n",
      "<class 'mediapipe.python.solution_base.SolutionOutputs'>\n",
      "<class 'mediapipe.python.solution_base.SolutionOutputs'>\n",
      "<class 'mediapipe.python.solution_base.SolutionOutputs'>\n",
      "<class 'mediapipe.python.solution_base.SolutionOutputs'>\n",
      "<class 'mediapipe.python.solution_base.SolutionOutputs'>\n",
      "<class 'mediapipe.python.solution_base.SolutionOutputs'>\n",
      "<class 'mediapipe.python.solution_base.SolutionOutputs'>\n",
      "<class 'mediapipe.python.solution_base.SolutionOutputs'>\n",
      "<class 'mediapipe.python.solution_base.SolutionOutputs'>\n",
      "<class 'mediapipe.python.solution_base.SolutionOutputs'>\n",
      "<class 'mediapipe.python.solution_base.SolutionOutputs'>\n",
      "<class 'mediapipe.python.solution_base.SolutionOutputs'>\n",
      "<class 'mediapipe.python.solution_base.SolutionOutputs'>\n",
      "<class 'mediapipe.python.solution_base.SolutionOutputs'>\n",
      "<class 'mediapipe.python.solution_base.SolutionOutputs'>\n",
      "<class 'mediapipe.python.solution_base.SolutionOutputs'>\n",
      "<class 'mediapipe.python.solution_base.SolutionOutputs'>\n",
      "<class 'mediapipe.python.solution_base.SolutionOutputs'>\n",
      "<class 'mediapipe.python.solution_base.SolutionOutputs'>\n",
      "<class 'mediapipe.python.solution_base.SolutionOutputs'>\n",
      "<class 'mediapipe.python.solution_base.SolutionOutputs'>\n",
      "<class 'mediapipe.python.solution_base.SolutionOutputs'>\n",
      "<class 'mediapipe.python.solution_base.SolutionOutputs'>\n",
      "<class 'mediapipe.python.solution_base.SolutionOutputs'>\n",
      "<class 'mediapipe.python.solution_base.SolutionOutputs'>\n",
      "<class 'mediapipe.python.solution_base.SolutionOutputs'>\n",
      "<class 'mediapipe.python.solution_base.SolutionOutputs'>\n",
      "<class 'mediapipe.python.solution_base.SolutionOutputs'>\n",
      "<class 'mediapipe.python.solution_base.SolutionOutputs'>\n",
      "<class 'mediapipe.python.solution_base.SolutionOutputs'>\n",
      "<class 'mediapipe.python.solution_base.SolutionOutputs'>\n",
      "<class 'mediapipe.python.solution_base.SolutionOutputs'>\n",
      "<class 'mediapipe.python.solution_base.SolutionOutputs'>\n",
      "<class 'mediapipe.python.solution_base.SolutionOutputs'>\n",
      "<class 'mediapipe.python.solution_base.SolutionOutputs'>\n",
      "<class 'mediapipe.python.solution_base.SolutionOutputs'>\n",
      "<class 'mediapipe.python.solution_base.SolutionOutputs'>\n",
      "<class 'mediapipe.python.solution_base.SolutionOutputs'>\n",
      "<class 'mediapipe.python.solution_base.SolutionOutputs'>\n",
      "<class 'mediapipe.python.solution_base.SolutionOutputs'>\n",
      "<class 'mediapipe.python.solution_base.SolutionOutputs'>\n",
      "<class 'mediapipe.python.solution_base.SolutionOutputs'>\n",
      "<class 'mediapipe.python.solution_base.SolutionOutputs'>\n",
      "<class 'mediapipe.python.solution_base.SolutionOutputs'>\n",
      "<class 'mediapipe.python.solution_base.SolutionOutputs'>\n",
      "<class 'mediapipe.python.solution_base.SolutionOutputs'>\n",
      "<class 'mediapipe.python.solution_base.SolutionOutputs'>\n"
     ]
    }
   ],
   "source": [
    "cap = cv2.VideoCapture(0)\n",
    "# Set mediapipe model \n",
    "with mp_holistic.Holistic(min_detection_confidence=0.5, min_tracking_confidence=0.5) as holistic:\n",
    "    while cap.isOpened():\n",
    "\n",
    "        # Read feed\n",
    "        ret, frame = cap.read()\n",
    "\n",
    "        # Make detections\n",
    "        image, results = mediapipe_detection(frame, holistic)\n",
    "        print(results)\n",
    "        \n",
    "        # Draw landmarks\n",
    "        draw_styled_landmarks(image, results)\n",
    "\n",
    "        # Show to screen\n",
    "        cv2.imshow('OpenCV Feed', image)\n",
    "\n",
    "        # Break gracefully\n",
    "        if cv2.waitKey(10) & 0xFF == ord('q'):\n",
    "            break\n",
    "    cap.release()\n",
    "    cv2.destroyAllWindows()"
   ]
  },
  {
   "cell_type": "code",
   "execution_count": 11,
   "metadata": {},
   "outputs": [],
   "source": [
    "draw_landmarks(frame, results)"
   ]
  },
  {
   "cell_type": "code",
   "execution_count": 12,
   "metadata": {},
   "outputs": [
    {
     "data": {
      "text/plain": [
       "<matplotlib.image.AxesImage at 0x213832d7670>"
      ]
     },
     "execution_count": 12,
     "metadata": {},
     "output_type": "execute_result"
    },
    {
     "data": {
      "image/png": "[encoded data removed]",
      "text/plain": [
       "<Figure size 432x288 with 1 Axes>"
      ]
     },
     "metadata": {
      "needs_background": "light"
     },
     "output_type": "display_data"
    }
   ],
   "source": [
    "plt.imshow(cv2.cvtColor(frame, cv2.COLOR_BGR2RGB))"
   ]
  },
  {
   "cell_type": "markdown",
   "metadata": {},
   "source": [
    "# 3. Extract Keypoint Values"
   ]
  },
  {
   "cell_type": "code",
   "execution_count": 13,
   "metadata": {},
   "outputs": [
    {
     "data": {
      "text/plain": [
       "21"
      ]
     },
     "execution_count": 13,
     "metadata": {},
     "output_type": "execute_result"
    }
   ],
   "source": [
    "len(results.left_hand_landmarks.landmark)"
   ]
  },
  {
   "cell_type": "code",
   "execution_count": 14,
   "metadata": {},
   "outputs": [],
   "source": [
    "pose = []\n",
    "for res in results.pose_landmarks.landmark:\n",
    "    test = np.array([res.x, res.y, res.z, res.visibility])\n",
    "    pose.append(test)"
   ]
  },
  {
   "cell_type": "code",
   "execution_count": 15,
   "metadata": {},
   "outputs": [],
   "source": [
    "pose = np.array([[res.x, res.y, res.z, res.visibility] for res in results.pose_landmarks.landmark]).flatten() if results.pose_landmarks else np.zeros(132)\n",
    "face = np.array([[res.x, res.y, res.z] for res in results.face_landmarks.landmark]).flatten() if results.face_landmarks else np.zeros(1404)\n",
    "lh = np.array([[res.x, res.y, res.z] for res in results.left_hand_landmarks.landmark]).flatten() if results.left_hand_landmarks else np.zeros(21*3)\n",
    "rh = np.array([[res.x, res.y, res.z] for res in results.right_hand_landmarks.landmark]).flatten() if results.right_hand_landmarks else np.zeros(21*3)"
   ]
  },
  {
   "cell_type": "code",
   "execution_count": 16,
   "metadata": {},
   "outputs": [],
   "source": [
    "def extract_keypoints(results):\n",
    "    pose = np.array([[res.x, res.y, res.z, res.visibility] for res in results.pose_landmarks.landmark]).flatten() if results.pose_landmarks else np.zeros(33*4)\n",
    "    face = np.array([[res.x, res.y, res.z] for res in results.face_landmarks.landmark]).flatten() if results.face_landmarks else np.zeros(468*3)\n",
    "    lh = np.array([[res.x, res.y, res.z] for res in results.left_hand_landmarks.landmark]).flatten() if results.left_hand_landmarks else np.zeros(21*3)\n",
    "    rh = np.array([[res.x, res.y, res.z] for res in results.right_hand_landmarks.landmark]).flatten() if results.right_hand_landmarks else np.zeros(21*3)\n",
    "    return np.concatenate([pose, face, lh, rh])"
   ]
  },
  {
   "cell_type": "code",
   "execution_count": 17,
   "metadata": {},
   "outputs": [],
   "source": [
    "result_test = extract_keypoints(results)"
   ]
  },
  {
   "cell_type": "code",
   "execution_count": 18,
   "metadata": {},
   "outputs": [
    {
     "data": {
      "text/plain": [
       "1662"
      ]
     },
     "execution_count": 18,
     "metadata": {},
     "output_type": "execute_result"
    }
   ],
   "source": [
    "len(result_test)"
   ]
  },
  {
   "cell_type": "code",
   "execution_count": 17,
   "metadata": {},
   "outputs": [],
   "source": [
    "np.save('0', result_test)"
   ]
  },
  {
   "cell_type": "code",
   "execution_count": 18,
   "metadata": {},
   "outputs": [
    {
     "data": {
      "text/plain": [
       "array([ 0.46360976,  0.55745411, -0.82151937, ...,  0.        ,\n",
       "        0.        ,  0.        ])"
      ]
     },
     "execution_count": 18,
     "metadata": {},
     "output_type": "execute_result"
    }
   ],
   "source": [
    "np.load('0.npy')"
   ]
  },
  {
   "cell_type": "markdown",
   "metadata": {},
   "source": [
    "# 4. Setup Folders for Collection"
   ]
  },
  {
   "cell_type": "code",
   "execution_count": 19,
   "metadata": {},
   "outputs": [],
   "source": [
    "# Path for exported data, numpy arrays\n",
    "DATA_PATH = os.path.join('MP_Data') \n",
    "\n",
    "# Actions that we try to detect\n",
    "actions = np.array(['Hi', 'I am', 'From', 'Singapore', 'Paiseh', 'I', 'Cannot', 'Speak', 'But', 'Machine', 'Learning', 'Can', 'Help', 'Translate'])\n",
    "\n",
    "# Thirty videos worth of data\n",
    "no_sequences = 50\n",
    "\n",
    "start = 0  # Change to you start number\n",
    "\n",
    "# Videos are going to be 30 frames in length\n",
    "sequence_length = 30"
   ]
  },
  {
   "cell_type": "code",
   "execution_count": 20,
   "metadata": {},
   "outputs": [],
   "source": [
    "for action in actions: \n",
    "    #dirmax = np.max(np.array(os.listdir(os.path.join(DATA_PATH, action))).astype(int))\n",
    "    for sequence in range(no_sequences):\n",
    "        try: \n",
    "            os.makedirs(os.path.join(DATA_PATH, action, str(sequence)))\n",
    "        except:\n",
    "            pass"
   ]
  },
  {
   "cell_type": "markdown",
   "metadata": {},
   "source": [
    "# 5. Collect Keypoint Values for Training and Testing"
   ]
  },
  {
   "cell_type": "code",
   "execution_count": 21,
   "metadata": {},
   "outputs": [],
   "source": [
    "cap = cv2.VideoCapture(0)\n",
    "# Set mediapipe model \n",
    "with mp_holistic.Holistic(min_detection_confidence=0.5, min_tracking_confidence=0.5) as holistic:\n",
    "    \n",
    "    # NEW LOOP\n",
    "    # Loop through actions\n",
    "    for action in actions:\n",
    "        # Loop through sequences aka videos\n",
    "        for sequence in range(no_sequences):\n",
    "            # Loop through video length aka sequence length\n",
    "            for frame_num in range(sequence_length):\n",
    "\n",
    "                # Read feed\n",
    "                ret, frame = cap.read()\n",
    "\n",
    "                # Make detections\n",
    "                image, results = mediapipe_detection(frame, holistic)\n",
    "\n",
    "                # Draw landmarks\n",
    "                draw_styled_landmarks(image, results)\n",
    "                \n",
    "                # NEW Apply wait logic\n",
    "                if frame_num == 0: \n",
    "                    cv2.putText(image, 'STARTING COLLECTION', (120,200), \n",
    "                               cv2.FONT_HERSHEY_SIMPLEX, 1, (0,255, 0), 4, cv2.LINE_AA)\n",
    "                    cv2.putText(image, 'Collecting frames for {} Video Number {}'.format(action, sequence), (15,12), \n",
    "                               cv2.FONT_HERSHEY_SIMPLEX, 0.5, (0, 0, 255), 1, cv2.LINE_AA)\n",
    "                    # Show to screen\n",
    "                    cv2.imshow('OpenCV Feed', image)\n",
    "                    cv2.waitKey(1000)\n",
    "                else: \n",
    "                    cv2.putText(image, 'Collecting frames for {} Video Number {}'.format(action, sequence), (15,12), \n",
    "                               cv2.FONT_HERSHEY_SIMPLEX, 0.5, (0, 0, 255), 1, cv2.LINE_AA)\n",
    "                    # Show to screen\n",
    "                    cv2.imshow('OpenCV Feed', image)\n",
    "                \n",
    "                # NEW Export keypoints\n",
    "                keypoints = extract_keypoints(results)\n",
    "                npy_path = os.path.join(DATA_PATH, action, str(sequence), str(frame_num))\n",
    "                np.save(npy_path, keypoints)\n",
    "\n",
    "                # Break gracefully\n",
    "                if cv2.waitKey(10) & 0xFF == ord('q'):\n",
    "                    break\n",
    "                    \n",
    "    cap.release()\n",
    "    cv2.destroyAllWindows()"
   ]
  },
  {
   "cell_type": "markdown",
   "metadata": {},
   "source": [
    "# 6. Preprocess Data and Create Labels and Features"
   ]
  },
  {
   "cell_type": "code",
   "execution_count": 20,
   "metadata": {},
   "outputs": [],
   "source": [
    "from sklearn.model_selection import train_test_split\n",
    "from tensorflow.keras.utils import to_categorical"
   ]
  },
  {
   "cell_type": "code",
   "execution_count": 21,
   "metadata": {},
   "outputs": [],
   "source": [
    "label_map = {label:num for num, label in enumerate(actions)}"
   ]
  },
  {
   "cell_type": "code",
   "execution_count": 22,
   "metadata": {},
   "outputs": [
    {
     "data": {
      "text/plain": [
       "{'Hi': 0,\n",
       " 'I am': 1,\n",
       " 'From': 2,\n",
       " 'Singapore': 3,\n",
       " 'Paiseh': 4,\n",
       " 'I': 5,\n",
       " 'Cannot': 6,\n",
       " 'Speak': 7,\n",
       " 'But': 8,\n",
       " 'Machine': 9,\n",
       " 'Learning': 10,\n",
       " 'Can': 11,\n",
       " 'Help': 12,\n",
       " 'Translate': 13}"
      ]
     },
     "execution_count": 22,
     "metadata": {},
     "output_type": "execute_result"
    }
   ],
   "source": [
    "label_map"
   ]
  },
  {
   "cell_type": "code",
   "execution_count": 23,
   "metadata": {},
   "outputs": [],
   "source": [
    "sequences, labels = [], []\n",
    "for action in actions:\n",
    "    for sequence in range(start, start+no_sequences):\n",
    "        window = []\n",
    "        for frame_num in range(sequence_length):\n",
    "            res = np.load(os.path.join(DATA_PATH, action, str(sequence), \"{}.npy\".format(frame_num)))\n",
    "            window.append(res)\n",
    "        sequences.append(window)\n",
    "        labels.append(label_map[action])"
   ]
  },
  {
   "cell_type": "code",
   "execution_count": 24,
   "metadata": {},
   "outputs": [
    {
     "data": {
      "text/plain": [
       "(700, 30, 1662)"
      ]
     },
     "execution_count": 24,
     "metadata": {},
     "output_type": "execute_result"
    }
   ],
   "source": [
    "np.array(sequences).shape"
   ]
  },
  {
   "cell_type": "code",
   "execution_count": 25,
   "metadata": {},
   "outputs": [
    {
     "data": {
      "text/plain": [
       "(700,)"
      ]
     },
     "execution_count": 25,
     "metadata": {},
     "output_type": "execute_result"
    }
   ],
   "source": [
    "np.array(labels).shape"
   ]
  },
  {
   "cell_type": "code",
   "execution_count": 26,
   "metadata": {},
   "outputs": [],
   "source": [
    "X = np.array(sequences)"
   ]
  },
  {
   "cell_type": "code",
   "execution_count": 27,
   "metadata": {},
   "outputs": [
    {
     "data": {
      "text/plain": [
       "(700, 30, 1662)"
      ]
     },
     "execution_count": 27,
     "metadata": {},
     "output_type": "execute_result"
    }
   ],
   "source": [
    "X.shape"
   ]
  },
  {
   "cell_type": "code",
   "execution_count": 28,
   "metadata": {},
   "outputs": [],
   "source": [
    "y = to_categorical(labels).astype(int)"
   ]
  },
  {
   "cell_type": "code",
   "execution_count": 29,
   "metadata": {},
   "outputs": [
    {
     "data": {
      "text/plain": [
       "array([[1, 0, 0, ..., 0, 0, 0],\n",
       "       [1, 0, 0, ..., 0, 0, 0],\n",
       "       [1, 0, 0, ..., 0, 0, 0],\n",
       "       ...,\n",
       "       [0, 0, 0, ..., 0, 0, 1],\n",
       "       [0, 0, 0, ..., 0, 0, 1],\n",
       "       [0, 0, 0, ..., 0, 0, 1]])"
      ]
     },
     "execution_count": 29,
     "metadata": {},
     "output_type": "execute_result"
    }
   ],
   "source": [
    "y"
   ]
  },
  {
   "cell_type": "code",
   "execution_count": 30,
   "metadata": {},
   "outputs": [],
   "source": [
    "X_train, X_test, y_train, y_test = train_test_split(X, y, test_size=0.25)"
   ]
  },
  {
   "cell_type": "code",
   "execution_count": 31,
   "metadata": {},
   "outputs": [
    {
     "data": {
      "text/plain": [
       "(175, 14)"
      ]
     },
     "execution_count": 31,
     "metadata": {},
     "output_type": "execute_result"
    }
   ],
   "source": [
    "y_test.shape"
   ]
  },
  {
   "cell_type": "markdown",
   "metadata": {},
   "source": [
    "# 7. Build and Train LSTM Neural Network"
   ]
  },
  {
   "cell_type": "code",
   "execution_count": 32,
   "metadata": {},
   "outputs": [],
   "source": [
    "from tensorflow.keras.models import Sequential\n",
    "from tensorflow.keras.layers import LSTM, Dense\n",
    "from tensorflow.keras.callbacks import TensorBoard"
   ]
  },
  {
   "cell_type": "code",
   "execution_count": 33,
   "metadata": {},
   "outputs": [],
   "source": [
    "log_dir = os.path.join('Logs')\n",
    "tb_callback = TensorBoard(log_dir=log_dir)"
   ]
  },
  {
   "cell_type": "code",
   "execution_count": 42,
   "metadata": {},
   "outputs": [],
   "source": [
    "model = Sequential()\n",
    "model.add(LSTM(64, return_sequences=True, activation='relu', input_shape=(30,1662)))\n",
    "model.add(LSTM(128, return_sequences=True, activation='relu'))\n",
    "model.add(LSTM(64, return_sequences=False, activation='relu'))\n",
    "model.add(Dense(64, activation='relu'))\n",
    "model.add(Dense(32, activation='relu'))\n",
    "model.add(Dense(actions.shape[0], activation='softmax'))"
   ]
  },
  {
   "cell_type": "code",
   "execution_count": 34,
   "metadata": {},
   "outputs": [
    {
     "name": "stdout",
     "output_type": "stream",
     "text": [
      "Epoch 1/500\n",
      "105/105 [==============================] - 9s 65ms/step - loss: 2.7479 - categorical_accuracy: 0.0714 - val_loss: 2.6550 - val_categorical_accuracy: 0.0571\n",
      "Epoch 2/500\n",
      "105/105 [==============================] - 6s 56ms/step - loss: 2.6169 - categorical_accuracy: 0.1214 - val_loss: 2.5521 - val_categorical_accuracy: 0.0762\n",
      "Epoch 3/500\n",
      "105/105 [==============================] - 7s 70ms/step - loss: 2.6059 - categorical_accuracy: 0.0976 - val_loss: 2.6210 - val_categorical_accuracy: 0.0667\n",
      "Epoch 4/500\n",
      "105/105 [==============================] - 6s 55ms/step - loss: 2.6678 - categorical_accuracy: 0.0905 - val_loss: 2.6540 - val_categorical_accuracy: 0.0381\n",
      "Epoch 5/500\n",
      "105/105 [==============================] - 6s 53ms/step - loss: 2.6329 - categorical_accuracy: 0.0881 - val_loss: 2.6645 - val_categorical_accuracy: 0.0381\n",
      "Epoch 6/500\n",
      " 57/105 [===============>..............] - ETA: 2s - loss: 2.6049 - categorical_accuracy: 0.0789"
     ]
    },
    {
     "ename": "KeyboardInterrupt",
     "evalue": "",
     "output_type": "error",
     "traceback": [
      "\u001b[1;31m---------------------------------------------------------------------------\u001b[0m",
      "\u001b[1;31mKeyboardInterrupt\u001b[0m                         Traceback (most recent call last)",
      "\u001b[1;32m~\\AppData\\Local\\Temp/ipykernel_31368/1633317702.py\u001b[0m in \u001b[0;36m<module>\u001b[1;34m\u001b[0m\n\u001b[0;32m      9\u001b[0m \u001b[1;33m\u001b[0m\u001b[0m\n\u001b[0;32m     10\u001b[0m \u001b[1;31m# Start training the model.\u001b[0m\u001b[1;33m\u001b[0m\u001b[1;33m\u001b[0m\u001b[0m\n\u001b[1;32m---> 11\u001b[1;33m LSTM_model_training_history = model.fit(x = X_train, y = y_train, epochs = 500, batch_size = 4 ,\n\u001b[0m\u001b[0;32m     12\u001b[0m                                              shuffle = True, validation_split = 0.2, callbacks = [early_stopping_callback])\n",
      "\u001b[1;32m~\\anaconda3\\lib\\site-packages\\keras\\utils\\traceback_utils.py\u001b[0m in \u001b[0;36merror_handler\u001b[1;34m(*args, **kwargs)\u001b[0m\n\u001b[0;32m     62\u001b[0m     \u001b[0mfiltered_tb\u001b[0m \u001b[1;33m=\u001b[0m \u001b[1;32mNone\u001b[0m\u001b[1;33m\u001b[0m\u001b[1;33m\u001b[0m\u001b[0m\n\u001b[0;32m     63\u001b[0m     \u001b[1;32mtry\u001b[0m\u001b[1;33m:\u001b[0m\u001b[1;33m\u001b[0m\u001b[1;33m\u001b[0m\u001b[0m\n\u001b[1;32m---> 64\u001b[1;33m       \u001b[1;32mreturn\u001b[0m \u001b[0mfn\u001b[0m\u001b[1;33m(\u001b[0m\u001b[1;33m*\u001b[0m\u001b[0margs\u001b[0m\u001b[1;33m,\u001b[0m \u001b[1;33m**\u001b[0m\u001b[0mkwargs\u001b[0m\u001b[1;33m)\u001b[0m\u001b[1;33m\u001b[0m\u001b[1;33m\u001b[0m\u001b[0m\n\u001b[0m\u001b[0;32m     65\u001b[0m     \u001b[1;32mexcept\u001b[0m \u001b[0mException\u001b[0m \u001b[1;32mas\u001b[0m \u001b[0me\u001b[0m\u001b[1;33m:\u001b[0m  \u001b[1;31m# pylint: disable=broad-except\u001b[0m\u001b[1;33m\u001b[0m\u001b[1;33m\u001b[0m\u001b[0m\n\u001b[0;32m     66\u001b[0m       \u001b[0mfiltered_tb\u001b[0m \u001b[1;33m=\u001b[0m \u001b[0m_process_traceback_frames\u001b[0m\u001b[1;33m(\u001b[0m\u001b[0me\u001b[0m\u001b[1;33m.\u001b[0m\u001b[0m__traceback__\u001b[0m\u001b[1;33m)\u001b[0m\u001b[1;33m\u001b[0m\u001b[1;33m\u001b[0m\u001b[0m\n",
      "\u001b[1;32m~\\anaconda3\\lib\\site-packages\\keras\\engine\\training.py\u001b[0m in \u001b[0;36mfit\u001b[1;34m(self, x, y, batch_size, epochs, verbose, callbacks, validation_split, validation_data, shuffle, class_weight, sample_weight, initial_epoch, steps_per_epoch, validation_steps, validation_batch_size, validation_freq, max_queue_size, workers, use_multiprocessing)\u001b[0m\n\u001b[0;32m   1214\u001b[0m                 _r=1):\n\u001b[0;32m   1215\u001b[0m               \u001b[0mcallbacks\u001b[0m\u001b[1;33m.\u001b[0m\u001b[0mon_train_batch_begin\u001b[0m\u001b[1;33m(\u001b[0m\u001b[0mstep\u001b[0m\u001b[1;33m)\u001b[0m\u001b[1;33m\u001b[0m\u001b[1;33m\u001b[0m\u001b[0m\n\u001b[1;32m-> 1216\u001b[1;33m               \u001b[0mtmp_logs\u001b[0m \u001b[1;33m=\u001b[0m \u001b[0mself\u001b[0m\u001b[1;33m.\u001b[0m\u001b[0mtrain_function\u001b[0m\u001b[1;33m(\u001b[0m\u001b[0miterator\u001b[0m\u001b[1;33m)\u001b[0m\u001b[1;33m\u001b[0m\u001b[1;33m\u001b[0m\u001b[0m\n\u001b[0m\u001b[0;32m   1217\u001b[0m               \u001b[1;32mif\u001b[0m \u001b[0mdata_handler\u001b[0m\u001b[1;33m.\u001b[0m\u001b[0mshould_sync\u001b[0m\u001b[1;33m:\u001b[0m\u001b[1;33m\u001b[0m\u001b[1;33m\u001b[0m\u001b[0m\n\u001b[0;32m   1218\u001b[0m                 \u001b[0mcontext\u001b[0m\u001b[1;33m.\u001b[0m\u001b[0masync_wait\u001b[0m\u001b[1;33m(\u001b[0m\u001b[1;33m)\u001b[0m\u001b[1;33m\u001b[0m\u001b[1;33m\u001b[0m\u001b[0m\n",
      "\u001b[1;32m~\\anaconda3\\lib\\site-packages\\tensorflow\\python\\util\\traceback_utils.py\u001b[0m in \u001b[0;36merror_handler\u001b[1;34m(*args, **kwargs)\u001b[0m\n\u001b[0;32m    148\u001b[0m     \u001b[0mfiltered_tb\u001b[0m \u001b[1;33m=\u001b[0m \u001b[1;32mNone\u001b[0m\u001b[1;33m\u001b[0m\u001b[1;33m\u001b[0m\u001b[0m\n\u001b[0;32m    149\u001b[0m     \u001b[1;32mtry\u001b[0m\u001b[1;33m:\u001b[0m\u001b[1;33m\u001b[0m\u001b[1;33m\u001b[0m\u001b[0m\n\u001b[1;32m--> 150\u001b[1;33m       \u001b[1;32mreturn\u001b[0m \u001b[0mfn\u001b[0m\u001b[1;33m(\u001b[0m\u001b[1;33m*\u001b[0m\u001b[0margs\u001b[0m\u001b[1;33m,\u001b[0m \u001b[1;33m**\u001b[0m\u001b[0mkwargs\u001b[0m\u001b[1;33m)\u001b[0m\u001b[1;33m\u001b[0m\u001b[1;33m\u001b[0m\u001b[0m\n\u001b[0m\u001b[0;32m    151\u001b[0m     \u001b[1;32mexcept\u001b[0m \u001b[0mException\u001b[0m \u001b[1;32mas\u001b[0m \u001b[0me\u001b[0m\u001b[1;33m:\u001b[0m\u001b[1;33m\u001b[0m\u001b[1;33m\u001b[0m\u001b[0m\n\u001b[0;32m    152\u001b[0m       \u001b[0mfiltered_tb\u001b[0m \u001b[1;33m=\u001b[0m \u001b[0m_process_traceback_frames\u001b[0m\u001b[1;33m(\u001b[0m\u001b[0me\u001b[0m\u001b[1;33m.\u001b[0m\u001b[0m__traceback__\u001b[0m\u001b[1;33m)\u001b[0m\u001b[1;33m\u001b[0m\u001b[1;33m\u001b[0m\u001b[0m\n",
      "\u001b[1;32m~\\anaconda3\\lib\\site-packages\\tensorflow\\python\\eager\\def_function.py\u001b[0m in \u001b[0;36m__call__\u001b[1;34m(self, *args, **kwds)\u001b[0m\n\u001b[0;32m    908\u001b[0m \u001b[1;33m\u001b[0m\u001b[0m\n\u001b[0;32m    909\u001b[0m       \u001b[1;32mwith\u001b[0m \u001b[0mOptionalXlaContext\u001b[0m\u001b[1;33m(\u001b[0m\u001b[0mself\u001b[0m\u001b[1;33m.\u001b[0m\u001b[0m_jit_compile\u001b[0m\u001b[1;33m)\u001b[0m\u001b[1;33m:\u001b[0m\u001b[1;33m\u001b[0m\u001b[1;33m\u001b[0m\u001b[0m\n\u001b[1;32m--> 910\u001b[1;33m         \u001b[0mresult\u001b[0m \u001b[1;33m=\u001b[0m \u001b[0mself\u001b[0m\u001b[1;33m.\u001b[0m\u001b[0m_call\u001b[0m\u001b[1;33m(\u001b[0m\u001b[1;33m*\u001b[0m\u001b[0margs\u001b[0m\u001b[1;33m,\u001b[0m \u001b[1;33m**\u001b[0m\u001b[0mkwds\u001b[0m\u001b[1;33m)\u001b[0m\u001b[1;33m\u001b[0m\u001b[1;33m\u001b[0m\u001b[0m\n\u001b[0m\u001b[0;32m    911\u001b[0m \u001b[1;33m\u001b[0m\u001b[0m\n\u001b[0;32m    912\u001b[0m       \u001b[0mnew_tracing_count\u001b[0m \u001b[1;33m=\u001b[0m \u001b[0mself\u001b[0m\u001b[1;33m.\u001b[0m\u001b[0mexperimental_get_tracing_count\u001b[0m\u001b[1;33m(\u001b[0m\u001b[1;33m)\u001b[0m\u001b[1;33m\u001b[0m\u001b[1;33m\u001b[0m\u001b[0m\n",
      "\u001b[1;32m~\\anaconda3\\lib\\site-packages\\tensorflow\\python\\eager\\def_function.py\u001b[0m in \u001b[0;36m_call\u001b[1;34m(self, *args, **kwds)\u001b[0m\n\u001b[0;32m    940\u001b[0m       \u001b[1;31m# In this case we have created variables on the first call, so we run the\u001b[0m\u001b[1;33m\u001b[0m\u001b[1;33m\u001b[0m\u001b[0m\n\u001b[0;32m    941\u001b[0m       \u001b[1;31m# defunned version which is guaranteed to never create variables.\u001b[0m\u001b[1;33m\u001b[0m\u001b[1;33m\u001b[0m\u001b[0m\n\u001b[1;32m--> 942\u001b[1;33m       \u001b[1;32mreturn\u001b[0m \u001b[0mself\u001b[0m\u001b[1;33m.\u001b[0m\u001b[0m_stateless_fn\u001b[0m\u001b[1;33m(\u001b[0m\u001b[1;33m*\u001b[0m\u001b[0margs\u001b[0m\u001b[1;33m,\u001b[0m \u001b[1;33m**\u001b[0m\u001b[0mkwds\u001b[0m\u001b[1;33m)\u001b[0m  \u001b[1;31m# pylint: disable=not-callable\u001b[0m\u001b[1;33m\u001b[0m\u001b[1;33m\u001b[0m\u001b[0m\n\u001b[0m\u001b[0;32m    943\u001b[0m     \u001b[1;32melif\u001b[0m \u001b[0mself\u001b[0m\u001b[1;33m.\u001b[0m\u001b[0m_stateful_fn\u001b[0m \u001b[1;32mis\u001b[0m \u001b[1;32mnot\u001b[0m \u001b[1;32mNone\u001b[0m\u001b[1;33m:\u001b[0m\u001b[1;33m\u001b[0m\u001b[1;33m\u001b[0m\u001b[0m\n\u001b[0;32m    944\u001b[0m       \u001b[1;31m# Release the lock early so that multiple threads can perform the call\u001b[0m\u001b[1;33m\u001b[0m\u001b[1;33m\u001b[0m\u001b[0m\n",
      "\u001b[1;32m~\\anaconda3\\lib\\site-packages\\tensorflow\\python\\eager\\function.py\u001b[0m in \u001b[0;36m__call__\u001b[1;34m(self, *args, **kwargs)\u001b[0m\n\u001b[0;32m   3128\u001b[0m       (graph_function,\n\u001b[0;32m   3129\u001b[0m        filtered_flat_args) = self._maybe_define_function(args, kwargs)\n\u001b[1;32m-> 3130\u001b[1;33m     return graph_function._call_flat(\n\u001b[0m\u001b[0;32m   3131\u001b[0m         filtered_flat_args, captured_inputs=graph_function.captured_inputs)  # pylint: disable=protected-access\n\u001b[0;32m   3132\u001b[0m \u001b[1;33m\u001b[0m\u001b[0m\n",
      "\u001b[1;32m~\\anaconda3\\lib\\site-packages\\tensorflow\\python\\eager\\function.py\u001b[0m in \u001b[0;36m_call_flat\u001b[1;34m(self, args, captured_inputs, cancellation_manager)\u001b[0m\n\u001b[0;32m   1957\u001b[0m         and executing_eagerly):\n\u001b[0;32m   1958\u001b[0m       \u001b[1;31m# No tape is watching; skip to running the function.\u001b[0m\u001b[1;33m\u001b[0m\u001b[1;33m\u001b[0m\u001b[0m\n\u001b[1;32m-> 1959\u001b[1;33m       return self._build_call_outputs(self._inference_function.call(\n\u001b[0m\u001b[0;32m   1960\u001b[0m           ctx, args, cancellation_manager=cancellation_manager))\n\u001b[0;32m   1961\u001b[0m     forward_backward = self._select_forward_and_backward_functions(\n",
      "\u001b[1;32m~\\anaconda3\\lib\\site-packages\\tensorflow\\python\\eager\\function.py\u001b[0m in \u001b[0;36mcall\u001b[1;34m(self, ctx, args, cancellation_manager)\u001b[0m\n\u001b[0;32m    596\u001b[0m       \u001b[1;32mwith\u001b[0m \u001b[0m_InterpolateFunctionError\u001b[0m\u001b[1;33m(\u001b[0m\u001b[0mself\u001b[0m\u001b[1;33m)\u001b[0m\u001b[1;33m:\u001b[0m\u001b[1;33m\u001b[0m\u001b[1;33m\u001b[0m\u001b[0m\n\u001b[0;32m    597\u001b[0m         \u001b[1;32mif\u001b[0m \u001b[0mcancellation_manager\u001b[0m \u001b[1;32mis\u001b[0m \u001b[1;32mNone\u001b[0m\u001b[1;33m:\u001b[0m\u001b[1;33m\u001b[0m\u001b[1;33m\u001b[0m\u001b[0m\n\u001b[1;32m--> 598\u001b[1;33m           outputs = execute.execute(\n\u001b[0m\u001b[0;32m    599\u001b[0m               \u001b[0mstr\u001b[0m\u001b[1;33m(\u001b[0m\u001b[0mself\u001b[0m\u001b[1;33m.\u001b[0m\u001b[0msignature\u001b[0m\u001b[1;33m.\u001b[0m\u001b[0mname\u001b[0m\u001b[1;33m)\u001b[0m\u001b[1;33m,\u001b[0m\u001b[1;33m\u001b[0m\u001b[1;33m\u001b[0m\u001b[0m\n\u001b[0;32m    600\u001b[0m               \u001b[0mnum_outputs\u001b[0m\u001b[1;33m=\u001b[0m\u001b[0mself\u001b[0m\u001b[1;33m.\u001b[0m\u001b[0m_num_outputs\u001b[0m\u001b[1;33m,\u001b[0m\u001b[1;33m\u001b[0m\u001b[1;33m\u001b[0m\u001b[0m\n",
      "\u001b[1;32m~\\anaconda3\\lib\\site-packages\\tensorflow\\python\\eager\\execute.py\u001b[0m in \u001b[0;36mquick_execute\u001b[1;34m(op_name, num_outputs, inputs, attrs, ctx, name)\u001b[0m\n\u001b[0;32m     56\u001b[0m   \u001b[1;32mtry\u001b[0m\u001b[1;33m:\u001b[0m\u001b[1;33m\u001b[0m\u001b[1;33m\u001b[0m\u001b[0m\n\u001b[0;32m     57\u001b[0m     \u001b[0mctx\u001b[0m\u001b[1;33m.\u001b[0m\u001b[0mensure_initialized\u001b[0m\u001b[1;33m(\u001b[0m\u001b[1;33m)\u001b[0m\u001b[1;33m\u001b[0m\u001b[1;33m\u001b[0m\u001b[0m\n\u001b[1;32m---> 58\u001b[1;33m     tensors = pywrap_tfe.TFE_Py_Execute(ctx._handle, device_name, op_name,\n\u001b[0m\u001b[0;32m     59\u001b[0m                                         inputs, attrs, num_outputs)\n\u001b[0;32m     60\u001b[0m   \u001b[1;32mexcept\u001b[0m \u001b[0mcore\u001b[0m\u001b[1;33m.\u001b[0m\u001b[0m_NotOkStatusException\u001b[0m \u001b[1;32mas\u001b[0m \u001b[0me\u001b[0m\u001b[1;33m:\u001b[0m\u001b[1;33m\u001b[0m\u001b[1;33m\u001b[0m\u001b[0m\n",
      "\u001b[1;31mKeyboardInterrupt\u001b[0m: "
     ]
    }
   ],
   "source": [
    "from tensorflow.keras.callbacks import EarlyStopping\n",
    "from tensorflow.keras.utils import plot_model\n",
    "\n",
    "# Create an Instance of Early Stopping Callback.\n",
    "early_stopping_callback = EarlyStopping(monitor = 'val_loss', patience = 15, mode = 'min', restore_best_weights = True)\n",
    " \n",
    "# Compile the model and specify loss function, optimizer and metrics to the model.\n",
    "model.compile(loss = 'categorical_crossentropy', optimizer = 'Adam', metrics = [\"categorical_accuracy\"])\n",
    "\n",
    "# Start training the model.\n",
    "LSTM_model_training_history = model.fit(x = X_train, y = y_train, epochs = 500, batch_size = 4 ,\n",
    "                                             shuffle = True, validation_split = 0.2, callbacks = [early_stopping_callback])"
   ]
  },
  {
   "cell_type": "code",
   "execution_count": 35,
   "metadata": {},
   "outputs": [],
   "source": [
    "model.compile(optimizer='Adam', loss='categorical_crossentropy', metrics=['categorical_accuracy'])"
   ]
  },
  {
   "cell_type": "code",
   "execution_count": 40,
   "metadata": {},
   "outputs": [
    {
     "name": "stdout",
     "output_type": "stream",
     "text": [
      "Epoch 1/500\n",
      "105/105 [==============================] - 9s 64ms/step - loss: 3.9591 - categorical_accuracy: 0.0452 - val_loss: 2.9341 - val_categorical_accuracy: 0.0571\n",
      "Epoch 2/500\n",
      "105/105 [==============================] - 6s 55ms/step - loss: 2.7389 - categorical_accuracy: 0.0690 - val_loss: 2.6439 - val_categorical_accuracy: 0.0762\n",
      "Epoch 3/500\n",
      "105/105 [==============================] - 6s 54ms/step - loss: 2.6396 - categorical_accuracy: 0.0714 - val_loss: 2.6517 - val_categorical_accuracy: 0.0762\n",
      "Epoch 4/500\n",
      "105/105 [==============================] - 5s 51ms/step - loss: 2.6355 - categorical_accuracy: 0.0833 - val_loss: 2.6512 - val_categorical_accuracy: 0.0667\n",
      "Epoch 5/500\n",
      "105/105 [==============================] - 6s 53ms/step - loss: 2.6361 - categorical_accuracy: 0.0857 - val_loss: 2.6483 - val_categorical_accuracy: 0.0476\n",
      "Epoch 6/500\n",
      "105/105 [==============================] - 5s 50ms/step - loss: 2.6666 - categorical_accuracy: 0.0714 - val_loss: 2.7085 - val_categorical_accuracy: 0.0762\n",
      "Epoch 7/500\n",
      "105/105 [==============================] - 5s 51ms/step - loss: 2.6711 - categorical_accuracy: 0.0952 - val_loss: 2.6366 - val_categorical_accuracy: 0.0762\n",
      "Epoch 8/500\n",
      "105/105 [==============================] - 6s 57ms/step - loss: 2.6377 - categorical_accuracy: 0.0952 - val_loss: 2.6535 - val_categorical_accuracy: 0.0476\n",
      "Epoch 9/500\n",
      "105/105 [==============================] - 5s 51ms/step - loss: 2.6301 - categorical_accuracy: 0.0952 - val_loss: 2.6568 - val_categorical_accuracy: 0.0571\n",
      "Epoch 10/500\n",
      "105/105 [==============================] - 5s 52ms/step - loss: 2.6320 - categorical_accuracy: 0.0905 - val_loss: 2.6492 - val_categorical_accuracy: 0.0667\n",
      "Epoch 11/500\n",
      "105/105 [==============================] - 6s 61ms/step - loss: 2.6091 - categorical_accuracy: 0.1048 - val_loss: 2.6839 - val_categorical_accuracy: 0.0476\n",
      "Epoch 12/500\n",
      "105/105 [==============================] - 7s 69ms/step - loss: 2.5837 - categorical_accuracy: 0.1119 - val_loss: 2.6300 - val_categorical_accuracy: 0.0952\n",
      "Epoch 13/500\n",
      "105/105 [==============================] - 6s 60ms/step - loss: 2.6032 - categorical_accuracy: 0.1071 - val_loss: 2.6623 - val_categorical_accuracy: 0.0381\n",
      "Epoch 14/500\n",
      "105/105 [==============================] - 7s 65ms/step - loss: 2.6034 - categorical_accuracy: 0.0643 - val_loss: 2.7933 - val_categorical_accuracy: 0.0762\n",
      "Epoch 15/500\n",
      "105/105 [==============================] - 5s 52ms/step - loss: 2.6352 - categorical_accuracy: 0.1143 - val_loss: 2.6538 - val_categorical_accuracy: 0.0857\n",
      "Epoch 16/500\n",
      "105/105 [==============================] - 5s 52ms/step - loss: 2.6281 - categorical_accuracy: 0.0929 - val_loss: 2.6482 - val_categorical_accuracy: 0.0381\n",
      "Epoch 17/500\n",
      "105/105 [==============================] - 5s 51ms/step - loss: 2.6510 - categorical_accuracy: 0.0619 - val_loss: 2.5828 - val_categorical_accuracy: 0.0571\n",
      "Epoch 18/500\n",
      "105/105 [==============================] - 6s 60ms/step - loss: 2.4202 - categorical_accuracy: 0.1381 - val_loss: 2.3698 - val_categorical_accuracy: 0.1238\n",
      "Epoch 19/500\n",
      "105/105 [==============================] - 6s 56ms/step - loss: 2.2694 - categorical_accuracy: 0.1429 - val_loss: 2.3858 - val_categorical_accuracy: 0.1048\n",
      "Epoch 20/500\n",
      "105/105 [==============================] - 5s 52ms/step - loss: 2.1909 - categorical_accuracy: 0.1595 - val_loss: 2.3181 - val_categorical_accuracy: 0.1143\n",
      "Epoch 21/500\n",
      "105/105 [==============================] - 6s 53ms/step - loss: 2.2000 - categorical_accuracy: 0.1500 - val_loss: 2.1754 - val_categorical_accuracy: 0.1143\n",
      "Epoch 22/500\n",
      "105/105 [==============================] - 6s 59ms/step - loss: 2.1348 - categorical_accuracy: 0.1333 - val_loss: 2.3649 - val_categorical_accuracy: 0.1238\n",
      "Epoch 23/500\n",
      "105/105 [==============================] - 6s 55ms/step - loss: 2.0568 - categorical_accuracy: 0.1452 - val_loss: 2.0903 - val_categorical_accuracy: 0.1619\n",
      "Epoch 24/500\n",
      "105/105 [==============================] - 6s 58ms/step - loss: 2.1302 - categorical_accuracy: 0.1167 - val_loss: 2.1152 - val_categorical_accuracy: 0.1429\n",
      "Epoch 25/500\n",
      "105/105 [==============================] - 6s 59ms/step - loss: 2.0314 - categorical_accuracy: 0.1595 - val_loss: 2.0322 - val_categorical_accuracy: 0.1333\n",
      "Epoch 26/500\n",
      "105/105 [==============================] - 6s 56ms/step - loss: 2.0087 - categorical_accuracy: 0.1738 - val_loss: 2.0308 - val_categorical_accuracy: 0.1429\n",
      "Epoch 27/500\n",
      "105/105 [==============================] - 6s 56ms/step - loss: 2.0923 - categorical_accuracy: 0.1595 - val_loss: 2.0355 - val_categorical_accuracy: 0.1048\n",
      "Epoch 28/500\n",
      "105/105 [==============================] - 5s 52ms/step - loss: 2.0117 - categorical_accuracy: 0.1452 - val_loss: 2.0428 - val_categorical_accuracy: 0.1238\n",
      "Epoch 29/500\n",
      "105/105 [==============================] - 6s 58ms/step - loss: 2.0675 - categorical_accuracy: 0.1714 - val_loss: 2.0312 - val_categorical_accuracy: 0.1619\n",
      "Epoch 30/500\n",
      "105/105 [==============================] - 7s 64ms/step - loss: 2.0421 - categorical_accuracy: 0.1690 - val_loss: 2.0050 - val_categorical_accuracy: 0.1714\n",
      "Epoch 31/500\n",
      "105/105 [==============================] - 7s 69ms/step - loss: 2.1134 - categorical_accuracy: 0.1738 - val_loss: 2.0726 - val_categorical_accuracy: 0.1143\n",
      "Epoch 32/500\n",
      "105/105 [==============================] - 8s 72ms/step - loss: 2.0379 - categorical_accuracy: 0.1500 - val_loss: 2.0244 - val_categorical_accuracy: 0.1333\n",
      "Epoch 33/500\n",
      "105/105 [==============================] - 6s 57ms/step - loss: 2.0309 - categorical_accuracy: 0.1929 - val_loss: 2.0772 - val_categorical_accuracy: 0.1429\n",
      "Epoch 34/500\n",
      "105/105 [==============================] - 6s 55ms/step - loss: 2.0372 - categorical_accuracy: 0.1690 - val_loss: 2.0876 - val_categorical_accuracy: 0.1238\n",
      "Epoch 35/500\n",
      "105/105 [==============================] - 5s 52ms/step - loss: 2.0426 - categorical_accuracy: 0.1548 - val_loss: 2.0166 - val_categorical_accuracy: 0.1714\n",
      "Epoch 36/500\n",
      "105/105 [==============================] - 6s 53ms/step - loss: 2.0102 - categorical_accuracy: 0.1976 - val_loss: 2.0172 - val_categorical_accuracy: 0.1524\n",
      "Epoch 37/500\n",
      "105/105 [==============================] - 6s 59ms/step - loss: 1.9983 - categorical_accuracy: 0.1905 - val_loss: 2.0643 - val_categorical_accuracy: 0.1714\n",
      "Epoch 38/500\n",
      "105/105 [==============================] - 6s 54ms/step - loss: 2.0216 - categorical_accuracy: 0.1810 - val_loss: 1.9979 - val_categorical_accuracy: 0.1143\n",
      "Epoch 39/500\n",
      "105/105 [==============================] - 5s 50ms/step - loss: 2.0694 - categorical_accuracy: 0.1643 - val_loss: 2.0685 - val_categorical_accuracy: 0.1238\n",
      "Epoch 40/500\n",
      "105/105 [==============================] - 6s 62ms/step - loss: 2.0178 - categorical_accuracy: 0.1738 - val_loss: 2.0309 - val_categorical_accuracy: 0.1429\n",
      "Epoch 41/500\n",
      "105/105 [==============================] - 6s 58ms/step - loss: 2.0062 - categorical_accuracy: 0.2000 - val_loss: 2.0909 - val_categorical_accuracy: 0.0857\n",
      "Epoch 42/500\n",
      "105/105 [==============================] - 6s 55ms/step - loss: 2.0096 - categorical_accuracy: 0.1857 - val_loss: 2.0166 - val_categorical_accuracy: 0.1810\n",
      "Epoch 43/500\n",
      "105/105 [==============================] - 5s 52ms/step - loss: 2.0002 - categorical_accuracy: 0.1786 - val_loss: 1.9986 - val_categorical_accuracy: 0.2000\n",
      "Epoch 44/500\n",
      "105/105 [==============================] - 6s 58ms/step - loss: 1.9836 - categorical_accuracy: 0.2048 - val_loss: 2.3882 - val_categorical_accuracy: 0.1048\n",
      "Epoch 45/500\n",
      "105/105 [==============================] - 6s 58ms/step - loss: 2.0088 - categorical_accuracy: 0.2048 - val_loss: 2.0374 - val_categorical_accuracy: 0.0857\n",
      "Epoch 46/500\n",
      "105/105 [==============================] - 6s 60ms/step - loss: 2.0114 - categorical_accuracy: 0.1952 - val_loss: 2.2834 - val_categorical_accuracy: 0.0762\n",
      "Epoch 47/500\n",
      "105/105 [==============================] - 6s 54ms/step - loss: 1.9818 - categorical_accuracy: 0.2119 - val_loss: 2.0477 - val_categorical_accuracy: 0.1238\n",
      "Epoch 48/500\n",
      "105/105 [==============================] - 6s 54ms/step - loss: 1.9776 - categorical_accuracy: 0.2119 - val_loss: 2.1162 - val_categorical_accuracy: 0.1238\n",
      "Epoch 49/500\n"
     ]
    },
    {
     "name": "stdout",
     "output_type": "stream",
     "text": [
      "105/105 [==============================] - 5s 49ms/step - loss: 1.9390 - categorical_accuracy: 0.2333 - val_loss: 1.9429 - val_categorical_accuracy: 0.1810\n",
      "Epoch 50/500\n",
      "105/105 [==============================] - 6s 54ms/step - loss: 1.8692 - categorical_accuracy: 0.2667 - val_loss: 1.9079 - val_categorical_accuracy: 0.1810\n",
      "Epoch 51/500\n",
      "105/105 [==============================] - 6s 62ms/step - loss: 3.1254 - categorical_accuracy: 0.2405 - val_loss: 1.9103 - val_categorical_accuracy: 0.2190\n",
      "Epoch 52/500\n",
      "105/105 [==============================] - 6s 56ms/step - loss: 1.8598 - categorical_accuracy: 0.2690 - val_loss: 2.0439 - val_categorical_accuracy: 0.2286\n",
      "Epoch 53/500\n",
      "105/105 [==============================] - 7s 65ms/step - loss: 1.8009 - categorical_accuracy: 0.2881 - val_loss: 1.8383 - val_categorical_accuracy: 0.2095\n",
      "Epoch 54/500\n",
      "105/105 [==============================] - 8s 80ms/step - loss: 1.8388 - categorical_accuracy: 0.2833 - val_loss: 1.8577 - val_categorical_accuracy: 0.2476\n",
      "Epoch 55/500\n",
      "105/105 [==============================] - 7s 67ms/step - loss: 3.4978 - categorical_accuracy: 0.2262 - val_loss: 2.9978 - val_categorical_accuracy: 0.0857\n",
      "Epoch 56/500\n",
      "105/105 [==============================] - 8s 80ms/step - loss: 2.9814 - categorical_accuracy: 0.0667 - val_loss: 2.6544 - val_categorical_accuracy: 0.0762\n",
      "Epoch 57/500\n",
      "105/105 [==============================] - 8s 74ms/step - loss: 2.6411 - categorical_accuracy: 0.0690 - val_loss: 2.6551 - val_categorical_accuracy: 0.0762\n",
      "Epoch 58/500\n",
      "105/105 [==============================] - 6s 59ms/step - loss: 2.6400 - categorical_accuracy: 0.0690 - val_loss: 2.6558 - val_categorical_accuracy: 0.0762\n",
      "Epoch 59/500\n",
      "105/105 [==============================] - 6s 55ms/step - loss: 2.6390 - categorical_accuracy: 0.0690 - val_loss: 2.6575 - val_categorical_accuracy: 0.0762\n",
      "Epoch 60/500\n",
      "105/105 [==============================] - 7s 63ms/step - loss: 2.6379 - categorical_accuracy: 0.0690 - val_loss: 2.6578 - val_categorical_accuracy: 0.0762\n",
      "Epoch 61/500\n",
      "105/105 [==============================] - 7s 62ms/step - loss: 2.6372 - categorical_accuracy: 0.0690 - val_loss: 2.6586 - val_categorical_accuracy: 0.0762\n",
      "Epoch 62/500\n",
      "105/105 [==============================] - 6s 61ms/step - loss: 2.6365 - categorical_accuracy: 0.0690 - val_loss: 2.6597 - val_categorical_accuracy: 0.0762\n",
      "Epoch 63/500\n",
      "105/105 [==============================] - 6s 58ms/step - loss: 2.6360 - categorical_accuracy: 0.0667 - val_loss: 2.6605 - val_categorical_accuracy: 0.0857\n",
      "Epoch 64/500\n",
      "105/105 [==============================] - 6s 60ms/step - loss: 2.6354 - categorical_accuracy: 0.0762 - val_loss: 2.6611 - val_categorical_accuracy: 0.0857\n",
      "Epoch 65/500\n",
      "105/105 [==============================] - 7s 65ms/step - loss: 2.6348 - categorical_accuracy: 0.0786 - val_loss: 2.6621 - val_categorical_accuracy: 0.0857\n",
      "Epoch 66/500\n",
      "105/105 [==============================] - 7s 62ms/step - loss: 2.6344 - categorical_accuracy: 0.0786 - val_loss: 2.6626 - val_categorical_accuracy: 0.0857\n",
      "Epoch 67/500\n",
      "105/105 [==============================] - 6s 58ms/step - loss: 2.6342 - categorical_accuracy: 0.0786 - val_loss: 2.6637 - val_categorical_accuracy: 0.0857\n",
      "Epoch 68/500\n",
      "105/105 [==============================] - 7s 65ms/step - loss: 2.6338 - categorical_accuracy: 0.0786 - val_loss: 2.6641 - val_categorical_accuracy: 0.0857\n"
     ]
    }
   ],
   "source": [
    "LSTM_model_training_history = model.fit(X_train, y_train, epochs = 500, batch_size = 4 ,\n",
    "                                             shuffle = True, validation_split = 0.2, callbacks = [early_stopping_callback])"
   ]
  },
  {
   "cell_type": "code",
   "execution_count": 36,
   "metadata": {
    "scrolled": true
   },
   "outputs": [
    {
     "name": "stdout",
     "output_type": "stream",
     "text": [
      "Epoch 1/1000\n",
      "14/14 [==============================] - 4s 156ms/step - loss: 13.4499 - categorical_accuracy: 0.0524 - val_loss: 2.7276 - val_categorical_accuracy: 0.1143\n",
      "Epoch 2/1000\n",
      "14/14 [==============================] - 2s 128ms/step - loss: 2.7434 - categorical_accuracy: 0.0976 - val_loss: 2.7566 - val_categorical_accuracy: 0.1048\n",
      "Epoch 3/1000\n",
      "14/14 [==============================] - 2s 143ms/step - loss: 2.6023 - categorical_accuracy: 0.1452 - val_loss: 2.5554 - val_categorical_accuracy: 0.1048\n",
      "Epoch 4/1000\n",
      "14/14 [==============================] - 2s 124ms/step - loss: 2.6293 - categorical_accuracy: 0.0762 - val_loss: 2.5415 - val_categorical_accuracy: 0.0952\n",
      "Epoch 5/1000\n",
      "14/14 [==============================] - 2s 135ms/step - loss: 2.5071 - categorical_accuracy: 0.1286 - val_loss: 2.5073 - val_categorical_accuracy: 0.0667\n",
      "Epoch 6/1000\n",
      "14/14 [==============================] - 2s 156ms/step - loss: 2.3203 - categorical_accuracy: 0.1714 - val_loss: 2.5010 - val_categorical_accuracy: 0.1143\n",
      "Epoch 7/1000\n",
      "14/14 [==============================] - 2s 140ms/step - loss: 2.1606 - categorical_accuracy: 0.1810 - val_loss: 2.1180 - val_categorical_accuracy: 0.1333\n",
      "Epoch 8/1000\n",
      "14/14 [==============================] - 2s 144ms/step - loss: 2.0766 - categorical_accuracy: 0.1690 - val_loss: 2.2052 - val_categorical_accuracy: 0.1143\n",
      "Epoch 9/1000\n",
      "14/14 [==============================] - 2s 143ms/step - loss: 2.1616 - categorical_accuracy: 0.1714 - val_loss: 2.1513 - val_categorical_accuracy: 0.2286\n",
      "Epoch 10/1000\n",
      "14/14 [==============================] - 2s 143ms/step - loss: 2.0616 - categorical_accuracy: 0.1786 - val_loss: 2.0985 - val_categorical_accuracy: 0.1714\n",
      "Epoch 11/1000\n",
      "14/14 [==============================] - 2s 135ms/step - loss: 2.5025 - categorical_accuracy: 0.1429 - val_loss: 2.4166 - val_categorical_accuracy: 0.1238\n",
      "Epoch 12/1000\n",
      "14/14 [==============================] - 2s 122ms/step - loss: 2.3143 - categorical_accuracy: 0.1476 - val_loss: 2.1916 - val_categorical_accuracy: 0.2190\n",
      "Epoch 13/1000\n",
      "14/14 [==============================] - 2s 132ms/step - loss: 2.1410 - categorical_accuracy: 0.1524 - val_loss: 2.0514 - val_categorical_accuracy: 0.1905\n",
      "Epoch 14/1000\n",
      "14/14 [==============================] - 2s 128ms/step - loss: 2.0597 - categorical_accuracy: 0.2024 - val_loss: 2.2123 - val_categorical_accuracy: 0.1619\n",
      "Epoch 15/1000\n",
      "14/14 [==============================] - 2s 119ms/step - loss: 2.8046 - categorical_accuracy: 0.1119 - val_loss: 2.5927 - val_categorical_accuracy: 0.1333\n",
      "Epoch 16/1000\n",
      "14/14 [==============================] - 2s 116ms/step - loss: 2.5761 - categorical_accuracy: 0.1357 - val_loss: 2.4713 - val_categorical_accuracy: 0.2095\n",
      "Epoch 17/1000\n",
      "14/14 [==============================] - 2s 124ms/step - loss: 2.3868 - categorical_accuracy: 0.1381 - val_loss: 2.3251 - val_categorical_accuracy: 0.1524\n",
      "Epoch 18/1000\n",
      "14/14 [==============================] - 2s 125ms/step - loss: 2.1978 - categorical_accuracy: 0.1952 - val_loss: 2.3576 - val_categorical_accuracy: 0.1238\n",
      "Epoch 19/1000\n",
      "14/14 [==============================] - 2s 123ms/step - loss: 2.1091 - categorical_accuracy: 0.1690 - val_loss: 2.2113 - val_categorical_accuracy: 0.1238\n",
      "Epoch 20/1000\n",
      "14/14 [==============================] - 2s 133ms/step - loss: 2.1285 - categorical_accuracy: 0.1786 - val_loss: 2.1614 - val_categorical_accuracy: 0.1619\n",
      "Epoch 21/1000\n",
      "14/14 [==============================] - 2s 129ms/step - loss: 2.0911 - categorical_accuracy: 0.1857 - val_loss: 2.0597 - val_categorical_accuracy: 0.1810\n",
      "Epoch 22/1000\n",
      "14/14 [==============================] - 2s 130ms/step - loss: 2.0369 - categorical_accuracy: 0.1762 - val_loss: 2.0277 - val_categorical_accuracy: 0.1714\n",
      "Epoch 23/1000\n",
      "14/14 [==============================] - 2s 135ms/step - loss: 1.9967 - categorical_accuracy: 0.1690 - val_loss: 2.0276 - val_categorical_accuracy: 0.1143\n",
      "Epoch 24/1000\n",
      "14/14 [==============================] - 2s 131ms/step - loss: 2.0154 - categorical_accuracy: 0.1952 - val_loss: 2.9720 - val_categorical_accuracy: 0.0381\n",
      "Epoch 25/1000\n",
      "14/14 [==============================] - 2s 126ms/step - loss: 2.5666 - categorical_accuracy: 0.1024 - val_loss: 2.5340 - val_categorical_accuracy: 0.0857\n",
      "Epoch 26/1000\n",
      "14/14 [==============================] - 2s 119ms/step - loss: 2.2809 - categorical_accuracy: 0.1429 - val_loss: 2.0856 - val_categorical_accuracy: 0.2190\n",
      "Epoch 27/1000\n",
      "14/14 [==============================] - 2s 133ms/step - loss: 2.0160 - categorical_accuracy: 0.1857 - val_loss: 1.9616 - val_categorical_accuracy: 0.1810\n",
      "Epoch 28/1000\n",
      "14/14 [==============================] - 2s 138ms/step - loss: 1.9945 - categorical_accuracy: 0.1595 - val_loss: 2.0220 - val_categorical_accuracy: 0.1429\n",
      "Epoch 29/1000\n",
      "14/14 [==============================] - 2s 127ms/step - loss: 1.9378 - categorical_accuracy: 0.2095 - val_loss: 1.9500 - val_categorical_accuracy: 0.1714\n",
      "Epoch 30/1000\n",
      "14/14 [==============================] - 2s 124ms/step - loss: 1.9326 - categorical_accuracy: 0.2048 - val_loss: 1.8731 - val_categorical_accuracy: 0.2000\n",
      "Epoch 31/1000\n",
      "14/14 [==============================] - 2s 133ms/step - loss: 1.8790 - categorical_accuracy: 0.2000 - val_loss: 1.9705 - val_categorical_accuracy: 0.2095\n",
      "Epoch 32/1000\n",
      "14/14 [==============================] - 2s 141ms/step - loss: 1.8883 - categorical_accuracy: 0.2286 - val_loss: 1.8300 - val_categorical_accuracy: 0.1714\n",
      "Epoch 33/1000\n",
      "14/14 [==============================] - 2s 129ms/step - loss: 1.9821 - categorical_accuracy: 0.1857 - val_loss: 2.0042 - val_categorical_accuracy: 0.0952\n",
      "Epoch 34/1000\n",
      "14/14 [==============================] - 2s 134ms/step - loss: 2.0320 - categorical_accuracy: 0.1524 - val_loss: 1.9979 - val_categorical_accuracy: 0.1619\n",
      "Epoch 35/1000\n",
      "14/14 [==============================] - 2s 134ms/step - loss: 1.9644 - categorical_accuracy: 0.2000 - val_loss: 2.2902 - val_categorical_accuracy: 0.1524\n",
      "Epoch 36/1000\n",
      "14/14 [==============================] - 2s 130ms/step - loss: 2.0155 - categorical_accuracy: 0.2190 - val_loss: 1.9762 - val_categorical_accuracy: 0.2286\n",
      "Epoch 37/1000\n",
      "14/14 [==============================] - 2s 122ms/step - loss: 1.9194 - categorical_accuracy: 0.2286 - val_loss: 1.8530 - val_categorical_accuracy: 0.2000\n",
      "Epoch 38/1000\n",
      "14/14 [==============================] - 2s 120ms/step - loss: 1.8419 - categorical_accuracy: 0.2571 - val_loss: 1.8221 - val_categorical_accuracy: 0.2381\n",
      "Epoch 39/1000\n",
      "14/14 [==============================] - 2s 136ms/step - loss: 1.7896 - categorical_accuracy: 0.2738 - val_loss: 1.9021 - val_categorical_accuracy: 0.2286\n",
      "Epoch 40/1000\n",
      "14/14 [==============================] - 2s 141ms/step - loss: 1.8073 - categorical_accuracy: 0.2452 - val_loss: 1.7798 - val_categorical_accuracy: 0.2095\n",
      "Epoch 41/1000\n",
      "14/14 [==============================] - 2s 128ms/step - loss: 1.7793 - categorical_accuracy: 0.2595 - val_loss: 1.9369 - val_categorical_accuracy: 0.2857\n",
      "Epoch 42/1000\n",
      "14/14 [==============================] - 2s 131ms/step - loss: 1.7329 - categorical_accuracy: 0.3143 - val_loss: 1.8185 - val_categorical_accuracy: 0.2095\n",
      "Epoch 43/1000\n",
      "14/14 [==============================] - 2s 154ms/step - loss: 1.7170 - categorical_accuracy: 0.2690 - val_loss: 1.7035 - val_categorical_accuracy: 0.3524\n",
      "Epoch 44/1000\n",
      "14/14 [==============================] - 2s 155ms/step - loss: 1.6664 - categorical_accuracy: 0.2976 - val_loss: 1.8874 - val_categorical_accuracy: 0.2381\n",
      "Epoch 45/1000\n",
      "14/14 [==============================] - 2s 154ms/step - loss: 1.6744 - categorical_accuracy: 0.3000 - val_loss: 1.6786 - val_categorical_accuracy: 0.2571\n",
      "Epoch 46/1000\n",
      "14/14 [==============================] - 2s 137ms/step - loss: 1.7673 - categorical_accuracy: 0.3024 - val_loss: 1.7262 - val_categorical_accuracy: 0.2667\n",
      "Epoch 47/1000\n",
      "14/14 [==============================] - 2s 127ms/step - loss: 1.8677 - categorical_accuracy: 0.2595 - val_loss: 1.8720 - val_categorical_accuracy: 0.2667\n",
      "Epoch 48/1000\n",
      "14/14 [==============================] - 2s 128ms/step - loss: 1.7830 - categorical_accuracy: 0.2833 - val_loss: 1.7565 - val_categorical_accuracy: 0.2667\n",
      "Epoch 49/1000\n"
     ]
    },
    {
     "name": "stdout",
     "output_type": "stream",
     "text": [
      "14/14 [==============================] - 2s 136ms/step - loss: 1.8319 - categorical_accuracy: 0.2500 - val_loss: 1.7342 - val_categorical_accuracy: 0.2952\n",
      "Epoch 50/1000\n",
      "14/14 [==============================] - 2s 117ms/step - loss: 1.7499 - categorical_accuracy: 0.2690 - val_loss: 1.7872 - val_categorical_accuracy: 0.2190\n",
      "Epoch 51/1000\n",
      "14/14 [==============================] - 2s 112ms/step - loss: 1.6905 - categorical_accuracy: 0.2810 - val_loss: 1.7105 - val_categorical_accuracy: 0.2286\n",
      "Epoch 52/1000\n",
      "14/14 [==============================] - 2s 109ms/step - loss: 1.7677 - categorical_accuracy: 0.2667 - val_loss: 1.6617 - val_categorical_accuracy: 0.2571\n",
      "Epoch 53/1000\n",
      "14/14 [==============================] - 2s 112ms/step - loss: 1.7191 - categorical_accuracy: 0.2476 - val_loss: 1.8595 - val_categorical_accuracy: 0.2190\n",
      "Epoch 54/1000\n",
      "14/14 [==============================] - 2s 112ms/step - loss: 1.8448 - categorical_accuracy: 0.2667 - val_loss: 1.7904 - val_categorical_accuracy: 0.1714\n",
      "Epoch 55/1000\n",
      "14/14 [==============================] - 1s 107ms/step - loss: 1.7167 - categorical_accuracy: 0.3071 - val_loss: 1.6290 - val_categorical_accuracy: 0.2857\n",
      "Epoch 56/1000\n",
      "14/14 [==============================] - 1s 106ms/step - loss: 1.5820 - categorical_accuracy: 0.3452 - val_loss: 1.6992 - val_categorical_accuracy: 0.2762\n",
      "Epoch 57/1000\n",
      "14/14 [==============================] - 1s 106ms/step - loss: 1.6113 - categorical_accuracy: 0.3000 - val_loss: 1.5984 - val_categorical_accuracy: 0.4000\n",
      "Epoch 58/1000\n",
      "14/14 [==============================] - 2s 111ms/step - loss: 1.5787 - categorical_accuracy: 0.3024 - val_loss: 1.6075 - val_categorical_accuracy: 0.2476\n",
      "Epoch 59/1000\n",
      "14/14 [==============================] - 2s 112ms/step - loss: 1.6615 - categorical_accuracy: 0.3238 - val_loss: 1.5887 - val_categorical_accuracy: 0.3238\n",
      "Epoch 60/1000\n",
      "14/14 [==============================] - 2s 109ms/step - loss: 1.9744 - categorical_accuracy: 0.2476 - val_loss: 1.8331 - val_categorical_accuracy: 0.2190\n",
      "Epoch 61/1000\n",
      "14/14 [==============================] - 1s 108ms/step - loss: 1.8081 - categorical_accuracy: 0.2381 - val_loss: 1.7751 - val_categorical_accuracy: 0.1905\n",
      "Epoch 62/1000\n",
      "14/14 [==============================] - 2s 110ms/step - loss: 1.7093 - categorical_accuracy: 0.2881 - val_loss: 1.6505 - val_categorical_accuracy: 0.2571\n",
      "Epoch 63/1000\n",
      "14/14 [==============================] - 2s 119ms/step - loss: 1.5934 - categorical_accuracy: 0.3333 - val_loss: 1.6277 - val_categorical_accuracy: 0.3333\n",
      "Epoch 64/1000\n",
      "14/14 [==============================] - 2s 121ms/step - loss: 1.6075 - categorical_accuracy: 0.3214 - val_loss: 1.5831 - val_categorical_accuracy: 0.3429\n",
      "Epoch 65/1000\n",
      "14/14 [==============================] - 2s 117ms/step - loss: 1.6030 - categorical_accuracy: 0.3167 - val_loss: 1.5888 - val_categorical_accuracy: 0.3810\n",
      "Epoch 66/1000\n",
      "14/14 [==============================] - 2s 118ms/step - loss: 1.5375 - categorical_accuracy: 0.3500 - val_loss: 1.6073 - val_categorical_accuracy: 0.3048\n",
      "Epoch 67/1000\n",
      "14/14 [==============================] - 2s 125ms/step - loss: 1.7730 - categorical_accuracy: 0.2667 - val_loss: 1.6623 - val_categorical_accuracy: 0.2667\n",
      "Epoch 68/1000\n",
      "14/14 [==============================] - 2s 130ms/step - loss: 1.6337 - categorical_accuracy: 0.3214 - val_loss: 1.5341 - val_categorical_accuracy: 0.3810\n",
      "Epoch 69/1000\n",
      "14/14 [==============================] - 2s 124ms/step - loss: 1.4814 - categorical_accuracy: 0.4333 - val_loss: 1.5279 - val_categorical_accuracy: 0.4095\n",
      "Epoch 70/1000\n",
      "14/14 [==============================] - 2s 125ms/step - loss: 11.8240 - categorical_accuracy: 0.2214 - val_loss: 18.2743 - val_categorical_accuracy: 0.0286\n",
      "Epoch 71/1000\n",
      "14/14 [==============================] - 2s 121ms/step - loss: 44.7225 - categorical_accuracy: 0.0619 - val_loss: 35.8569 - val_categorical_accuracy: 0.0381\n",
      "Epoch 72/1000\n",
      "14/14 [==============================] - 2s 121ms/step - loss: 31.1424 - categorical_accuracy: 0.0619 - val_loss: 24.9321 - val_categorical_accuracy: 0.0571\n",
      "Epoch 73/1000\n",
      "14/14 [==============================] - 2s 121ms/step - loss: 8.1050 - categorical_accuracy: 0.0833 - val_loss: 2.6503 - val_categorical_accuracy: 0.0381\n",
      "Epoch 74/1000\n",
      "14/14 [==============================] - 2s 118ms/step - loss: 2.6484 - categorical_accuracy: 0.0738 - val_loss: 2.6893 - val_categorical_accuracy: 0.0190\n",
      "Epoch 75/1000\n",
      "14/14 [==============================] - 2s 119ms/step - loss: 2.7495 - categorical_accuracy: 0.0714 - val_loss: 15.2340 - val_categorical_accuracy: 0.0381\n",
      "Epoch 76/1000\n",
      "14/14 [==============================] - 2s 108ms/step - loss: 8.0463 - categorical_accuracy: 0.0857 - val_loss: 36.7733 - val_categorical_accuracy: 0.0381\n",
      "Epoch 77/1000\n",
      "14/14 [==============================] - 1s 105ms/step - loss: 20.0819 - categorical_accuracy: 0.0476 - val_loss: 2.7873 - val_categorical_accuracy: 0.0381\n",
      "Epoch 78/1000\n",
      "14/14 [==============================] - 2s 109ms/step - loss: 13.4533 - categorical_accuracy: 0.0738 - val_loss: 2.6505 - val_categorical_accuracy: 0.0381\n",
      "Epoch 79/1000\n",
      "14/14 [==============================] - 1s 102ms/step - loss: 3.3464 - categorical_accuracy: 0.0738 - val_loss: 2.6506 - val_categorical_accuracy: 0.0381\n",
      "Epoch 80/1000\n",
      "14/14 [==============================] - 1s 100ms/step - loss: 2.6427 - categorical_accuracy: 0.0738 - val_loss: 2.6504 - val_categorical_accuracy: 0.0381\n",
      "Epoch 81/1000\n",
      "14/14 [==============================] - 1s 100ms/step - loss: 2.6426 - categorical_accuracy: 0.0738 - val_loss: 2.6501 - val_categorical_accuracy: 0.0381\n",
      "Epoch 82/1000\n",
      "14/14 [==============================] - 1s 103ms/step - loss: 2.6423 - categorical_accuracy: 0.0738 - val_loss: 2.6500 - val_categorical_accuracy: 0.0381\n",
      "Epoch 83/1000\n",
      "14/14 [==============================] - 1s 103ms/step - loss: 2.6420 - categorical_accuracy: 0.0738 - val_loss: 2.6499 - val_categorical_accuracy: 0.0381\n",
      "Epoch 84/1000\n",
      "14/14 [==============================] - 1s 106ms/step - loss: 2.6418 - categorical_accuracy: 0.0738 - val_loss: 2.6497 - val_categorical_accuracy: 0.0381\n",
      "Epoch 85/1000\n",
      "14/14 [==============================] - 1s 105ms/step - loss: 2.6416 - categorical_accuracy: 0.0738 - val_loss: 2.6494 - val_categorical_accuracy: 0.0381\n",
      "Epoch 86/1000\n",
      "14/14 [==============================] - 2s 113ms/step - loss: 2.6414 - categorical_accuracy: 0.0738 - val_loss: 2.6493 - val_categorical_accuracy: 0.0381\n",
      "Epoch 87/1000\n",
      "14/14 [==============================] - 2s 114ms/step - loss: 2.6413 - categorical_accuracy: 0.0738 - val_loss: 2.6491 - val_categorical_accuracy: 0.0381\n",
      "Epoch 88/1000\n",
      "14/14 [==============================] - 2s 109ms/step - loss: 2.6410 - categorical_accuracy: 0.0738 - val_loss: 2.6491 - val_categorical_accuracy: 0.0381\n",
      "Epoch 89/1000\n",
      "14/14 [==============================] - 2s 112ms/step - loss: 2.6409 - categorical_accuracy: 0.0738 - val_loss: 2.6492 - val_categorical_accuracy: 0.0381\n",
      "Epoch 90/1000\n",
      "14/14 [==============================] - 1s 105ms/step - loss: 2.6408 - categorical_accuracy: 0.0738 - val_loss: 2.6492 - val_categorical_accuracy: 0.0381\n",
      "Epoch 91/1000\n",
      "14/14 [==============================] - 1s 101ms/step - loss: 2.6407 - categorical_accuracy: 0.0738 - val_loss: 2.6491 - val_categorical_accuracy: 0.0381\n",
      "Epoch 92/1000\n",
      "14/14 [==============================] - 1s 102ms/step - loss: 2.6406 - categorical_accuracy: 0.0738 - val_loss: 2.6488 - val_categorical_accuracy: 0.0381\n",
      "Epoch 93/1000\n",
      "14/14 [==============================] - 1s 100ms/step - loss: 2.6404 - categorical_accuracy: 0.0738 - val_loss: 2.6487 - val_categorical_accuracy: 0.0381\n",
      "Epoch 94/1000\n",
      "14/14 [==============================] - 1s 98ms/step - loss: 2.6403 - categorical_accuracy: 0.0738 - val_loss: 2.6486 - val_categorical_accuracy: 0.0381\n",
      "Epoch 95/1000\n",
      "14/14 [==============================] - 1s 98ms/step - loss: 2.6401 - categorical_accuracy: 0.0738 - val_loss: 2.6485 - val_categorical_accuracy: 0.0381\n",
      "Epoch 96/1000\n",
      "14/14 [==============================] - 1s 98ms/step - loss: 2.6400 - categorical_accuracy: 0.0738 - val_loss: 2.6481 - val_categorical_accuracy: 0.0381\n",
      "Epoch 97/1000\n"
     ]
    },
    {
     "name": "stdout",
     "output_type": "stream",
     "text": [
      "14/14 [==============================] - 1s 100ms/step - loss: 2.6398 - categorical_accuracy: 0.0738 - val_loss: 2.6480 - val_categorical_accuracy: 0.0381\n",
      "Epoch 98/1000\n",
      "14/14 [==============================] - 1s 97ms/step - loss: 2.6397 - categorical_accuracy: 0.0738 - val_loss: 2.6482 - val_categorical_accuracy: 0.0381\n",
      "Epoch 99/1000\n",
      "14/14 [==============================] - 2s 111ms/step - loss: 2.6396 - categorical_accuracy: 0.0738 - val_loss: 2.6482 - val_categorical_accuracy: 0.0381\n",
      "Epoch 100/1000\n",
      "14/14 [==============================] - 2s 122ms/step - loss: 2.6395 - categorical_accuracy: 0.0738 - val_loss: 2.6483 - val_categorical_accuracy: 0.0381\n",
      "Epoch 101/1000\n",
      "14/14 [==============================] - 2s 118ms/step - loss: 2.6394 - categorical_accuracy: 0.0738 - val_loss: 2.6485 - val_categorical_accuracy: 0.0381\n",
      "Epoch 102/1000\n",
      "14/14 [==============================] - 2s 114ms/step - loss: 2.6393 - categorical_accuracy: 0.0738 - val_loss: 2.6485 - val_categorical_accuracy: 0.0381\n",
      "Epoch 103/1000\n",
      "14/14 [==============================] - 1s 107ms/step - loss: 2.6392 - categorical_accuracy: 0.0738 - val_loss: 2.6484 - val_categorical_accuracy: 0.0381\n",
      "Epoch 104/1000\n",
      "14/14 [==============================] - 1s 99ms/step - loss: 2.6391 - categorical_accuracy: 0.0738 - val_loss: 2.6483 - val_categorical_accuracy: 0.0381\n",
      "Epoch 105/1000\n",
      "14/14 [==============================] - 1s 96ms/step - loss: 2.6391 - categorical_accuracy: 0.0738 - val_loss: 2.6484 - val_categorical_accuracy: 0.0381\n",
      "Epoch 106/1000\n",
      "14/14 [==============================] - 1s 94ms/step - loss: 2.6389 - categorical_accuracy: 0.0738 - val_loss: 2.6484 - val_categorical_accuracy: 0.0381\n",
      "Epoch 107/1000\n",
      "14/14 [==============================] - 1s 95ms/step - loss: 2.6388 - categorical_accuracy: 0.0738 - val_loss: 2.6484 - val_categorical_accuracy: 0.0381\n",
      "Epoch 108/1000\n",
      "14/14 [==============================] - 1s 97ms/step - loss: 2.6387 - categorical_accuracy: 0.0738 - val_loss: 2.6483 - val_categorical_accuracy: 0.0381\n",
      "Epoch 109/1000\n",
      "14/14 [==============================] - 1s 106ms/step - loss: 2.6387 - categorical_accuracy: 0.0738 - val_loss: 2.6483 - val_categorical_accuracy: 0.0381\n",
      "Epoch 110/1000\n",
      "14/14 [==============================] - 2s 116ms/step - loss: 2.6386 - categorical_accuracy: 0.0738 - val_loss: 2.6482 - val_categorical_accuracy: 0.0381\n",
      "Epoch 111/1000\n",
      "14/14 [==============================] - 2s 118ms/step - loss: 2.6385 - categorical_accuracy: 0.0738 - val_loss: 2.6483 - val_categorical_accuracy: 0.0381\n",
      "Epoch 112/1000\n",
      "14/14 [==============================] - 2s 126ms/step - loss: 2.6385 - categorical_accuracy: 0.0738 - val_loss: 2.6483 - val_categorical_accuracy: 0.0381\n",
      "Epoch 113/1000\n",
      "14/14 [==============================] - 2s 109ms/step - loss: 2.6384 - categorical_accuracy: 0.0738 - val_loss: 2.6483 - val_categorical_accuracy: 0.0381\n",
      "Epoch 114/1000\n",
      "14/14 [==============================] - 1s 101ms/step - loss: 2.6383 - categorical_accuracy: 0.0738 - val_loss: 2.6482 - val_categorical_accuracy: 0.0381\n",
      "Epoch 115/1000\n",
      "14/14 [==============================] - 1s 105ms/step - loss: 2.6382 - categorical_accuracy: 0.0738 - val_loss: 2.6480 - val_categorical_accuracy: 0.0381\n",
      "Epoch 116/1000\n",
      "14/14 [==============================] - 2s 111ms/step - loss: 2.6382 - categorical_accuracy: 0.0738 - val_loss: 2.6477 - val_categorical_accuracy: 0.0381\n",
      "Epoch 117/1000\n",
      "14/14 [==============================] - 2s 113ms/step - loss: 2.6381 - categorical_accuracy: 0.0738 - val_loss: 2.6476 - val_categorical_accuracy: 0.0381\n",
      "Epoch 118/1000\n",
      "14/14 [==============================] - 2s 109ms/step - loss: 2.6381 - categorical_accuracy: 0.0738 - val_loss: 2.6474 - val_categorical_accuracy: 0.0381\n",
      "Epoch 119/1000\n",
      "14/14 [==============================] - 1s 98ms/step - loss: 2.6380 - categorical_accuracy: 0.0738 - val_loss: 2.6474 - val_categorical_accuracy: 0.0381\n",
      "Epoch 120/1000\n",
      "14/14 [==============================] - 1s 107ms/step - loss: 2.6379 - categorical_accuracy: 0.0738 - val_loss: 2.6472 - val_categorical_accuracy: 0.0381\n",
      "Epoch 121/1000\n",
      "14/14 [==============================] - 2s 114ms/step - loss: 2.6379 - categorical_accuracy: 0.0738 - val_loss: 2.6472 - val_categorical_accuracy: 0.0381\n",
      "Epoch 122/1000\n",
      "14/14 [==============================] - 2s 112ms/step - loss: 2.6378 - categorical_accuracy: 0.0738 - val_loss: 2.6471 - val_categorical_accuracy: 0.0381\n",
      "Epoch 123/1000\n",
      "14/14 [==============================] - 1s 98ms/step - loss: 2.6377 - categorical_accuracy: 0.0738 - val_loss: 2.6471 - val_categorical_accuracy: 0.0381\n",
      "Epoch 124/1000\n",
      "14/14 [==============================] - 1s 96ms/step - loss: 2.6377 - categorical_accuracy: 0.0738 - val_loss: 2.6470 - val_categorical_accuracy: 0.0381\n",
      "Epoch 125/1000\n",
      "14/14 [==============================] - 2s 116ms/step - loss: 2.6376 - categorical_accuracy: 0.0738 - val_loss: 2.6469 - val_categorical_accuracy: 0.0381\n",
      "Epoch 126/1000\n",
      "14/14 [==============================] - 2s 113ms/step - loss: 2.6376 - categorical_accuracy: 0.0738 - val_loss: 2.6469 - val_categorical_accuracy: 0.0381\n",
      "Epoch 127/1000\n",
      "14/14 [==============================] - 2s 117ms/step - loss: 2.6375 - categorical_accuracy: 0.0738 - val_loss: 2.6469 - val_categorical_accuracy: 0.0381\n",
      "Epoch 128/1000\n",
      "14/14 [==============================] - 2s 116ms/step - loss: 2.6375 - categorical_accuracy: 0.0738 - val_loss: 2.6470 - val_categorical_accuracy: 0.0381\n",
      "Epoch 129/1000\n",
      "14/14 [==============================] - 2s 119ms/step - loss: 2.6374 - categorical_accuracy: 0.0738 - val_loss: 2.6471 - val_categorical_accuracy: 0.0381\n",
      "Epoch 130/1000\n",
      "14/14 [==============================] - 2s 109ms/step - loss: 2.6374 - categorical_accuracy: 0.0738 - val_loss: 2.6470 - val_categorical_accuracy: 0.0381\n",
      "Epoch 131/1000\n",
      "14/14 [==============================] - 1s 105ms/step - loss: 2.6374 - categorical_accuracy: 0.0738 - val_loss: 2.6469 - val_categorical_accuracy: 0.0381\n",
      "Epoch 132/1000\n",
      "14/14 [==============================] - 1s 106ms/step - loss: 2.6373 - categorical_accuracy: 0.0738 - val_loss: 2.6468 - val_categorical_accuracy: 0.0381\n",
      "Epoch 133/1000\n",
      "14/14 [==============================] - 1s 99ms/step - loss: 2.6373 - categorical_accuracy: 0.0738 - val_loss: 2.6468 - val_categorical_accuracy: 0.0381\n",
      "Epoch 134/1000\n",
      "14/14 [==============================] - 1s 95ms/step - loss: 2.6372 - categorical_accuracy: 0.0738 - val_loss: 2.6468 - val_categorical_accuracy: 0.0381\n",
      "Epoch 135/1000\n",
      "14/14 [==============================] - 1s 94ms/step - loss: 2.6372 - categorical_accuracy: 0.0738 - val_loss: 2.6469 - val_categorical_accuracy: 0.0381\n",
      "Epoch 136/1000\n",
      "14/14 [==============================] - 1s 96ms/step - loss: 2.6372 - categorical_accuracy: 0.0738 - val_loss: 2.6470 - val_categorical_accuracy: 0.0381\n",
      "Epoch 137/1000\n",
      "14/14 [==============================] - 1s 105ms/step - loss: 2.6371 - categorical_accuracy: 0.0738 - val_loss: 2.6469 - val_categorical_accuracy: 0.0381\n",
      "Epoch 138/1000\n",
      "14/14 [==============================] - 1s 101ms/step - loss: 2.6372 - categorical_accuracy: 0.0738 - val_loss: 2.6470 - val_categorical_accuracy: 0.0381\n",
      "Epoch 139/1000\n",
      "14/14 [==============================] - 1s 98ms/step - loss: 2.6371 - categorical_accuracy: 0.0738 - val_loss: 2.6470 - val_categorical_accuracy: 0.0381\n",
      "Epoch 140/1000\n",
      "14/14 [==============================] - 1s 95ms/step - loss: 2.6371 - categorical_accuracy: 0.0738 - val_loss: 2.6469 - val_categorical_accuracy: 0.0381\n",
      "Epoch 141/1000\n",
      "14/14 [==============================] - 1s 106ms/step - loss: 2.6370 - categorical_accuracy: 0.0738 - val_loss: 2.6470 - val_categorical_accuracy: 0.0381\n",
      "Epoch 142/1000\n",
      "14/14 [==============================] - 1s 106ms/step - loss: 2.6370 - categorical_accuracy: 0.0738 - val_loss: 2.6471 - val_categorical_accuracy: 0.0381\n",
      "Epoch 143/1000\n",
      "14/14 [==============================] - 2s 126ms/step - loss: 2.6370 - categorical_accuracy: 0.0738 - val_loss: 2.6470 - val_categorical_accuracy: 0.0381\n",
      "Epoch 144/1000\n",
      "14/14 [==============================] - 2s 115ms/step - loss: 2.6370 - categorical_accuracy: 0.0738 - val_loss: 2.6471 - val_categorical_accuracy: 0.0381\n",
      "Epoch 145/1000\n"
     ]
    },
    {
     "ename": "KeyboardInterrupt",
     "evalue": "",
     "output_type": "error",
     "traceback": [
      "\u001b[1;31m---------------------------------------------------------------------------\u001b[0m",
      "\u001b[1;31mKeyboardInterrupt\u001b[0m                         Traceback (most recent call last)",
      "\u001b[1;32m~\\AppData\\Local\\Temp/ipykernel_9024/4168224245.py\u001b[0m in \u001b[0;36m<module>\u001b[1;34m\u001b[0m\n\u001b[1;32m----> 1\u001b[1;33m \u001b[0mmodel\u001b[0m\u001b[1;33m.\u001b[0m\u001b[0mfit\u001b[0m\u001b[1;33m(\u001b[0m\u001b[0mX_train\u001b[0m\u001b[1;33m,\u001b[0m \u001b[0my_train\u001b[0m\u001b[1;33m,\u001b[0m \u001b[0mepochs\u001b[0m\u001b[1;33m=\u001b[0m\u001b[1;36m1000\u001b[0m\u001b[1;33m,\u001b[0m \u001b[0mvalidation_split\u001b[0m \u001b[1;33m=\u001b[0m \u001b[1;36m0.2\u001b[0m\u001b[1;33m,\u001b[0m \u001b[0mcallbacks\u001b[0m\u001b[1;33m=\u001b[0m\u001b[1;33m[\u001b[0m\u001b[0mtb_callback\u001b[0m\u001b[1;33m]\u001b[0m\u001b[1;33m)\u001b[0m\u001b[1;33m\u001b[0m\u001b[1;33m\u001b[0m\u001b[0m\n\u001b[0m",
      "\u001b[1;32m~\\anaconda3\\lib\\site-packages\\keras\\utils\\traceback_utils.py\u001b[0m in \u001b[0;36merror_handler\u001b[1;34m(*args, **kwargs)\u001b[0m\n\u001b[0;32m     62\u001b[0m     \u001b[0mfiltered_tb\u001b[0m \u001b[1;33m=\u001b[0m \u001b[1;32mNone\u001b[0m\u001b[1;33m\u001b[0m\u001b[1;33m\u001b[0m\u001b[0m\n\u001b[0;32m     63\u001b[0m     \u001b[1;32mtry\u001b[0m\u001b[1;33m:\u001b[0m\u001b[1;33m\u001b[0m\u001b[1;33m\u001b[0m\u001b[0m\n\u001b[1;32m---> 64\u001b[1;33m       \u001b[1;32mreturn\u001b[0m \u001b[0mfn\u001b[0m\u001b[1;33m(\u001b[0m\u001b[1;33m*\u001b[0m\u001b[0margs\u001b[0m\u001b[1;33m,\u001b[0m \u001b[1;33m**\u001b[0m\u001b[0mkwargs\u001b[0m\u001b[1;33m)\u001b[0m\u001b[1;33m\u001b[0m\u001b[1;33m\u001b[0m\u001b[0m\n\u001b[0m\u001b[0;32m     65\u001b[0m     \u001b[1;32mexcept\u001b[0m \u001b[0mException\u001b[0m \u001b[1;32mas\u001b[0m \u001b[0me\u001b[0m\u001b[1;33m:\u001b[0m  \u001b[1;31m# pylint: disable=broad-except\u001b[0m\u001b[1;33m\u001b[0m\u001b[1;33m\u001b[0m\u001b[0m\n\u001b[0;32m     66\u001b[0m       \u001b[0mfiltered_tb\u001b[0m \u001b[1;33m=\u001b[0m \u001b[0m_process_traceback_frames\u001b[0m\u001b[1;33m(\u001b[0m\u001b[0me\u001b[0m\u001b[1;33m.\u001b[0m\u001b[0m__traceback__\u001b[0m\u001b[1;33m)\u001b[0m\u001b[1;33m\u001b[0m\u001b[1;33m\u001b[0m\u001b[0m\n",
      "\u001b[1;32m~\\anaconda3\\lib\\site-packages\\keras\\engine\\training.py\u001b[0m in \u001b[0;36mfit\u001b[1;34m(self, x, y, batch_size, epochs, verbose, callbacks, validation_split, validation_data, shuffle, class_weight, sample_weight, initial_epoch, steps_per_epoch, validation_steps, validation_batch_size, validation_freq, max_queue_size, workers, use_multiprocessing)\u001b[0m\n\u001b[0;32m   1214\u001b[0m                 _r=1):\n\u001b[0;32m   1215\u001b[0m               \u001b[0mcallbacks\u001b[0m\u001b[1;33m.\u001b[0m\u001b[0mon_train_batch_begin\u001b[0m\u001b[1;33m(\u001b[0m\u001b[0mstep\u001b[0m\u001b[1;33m)\u001b[0m\u001b[1;33m\u001b[0m\u001b[1;33m\u001b[0m\u001b[0m\n\u001b[1;32m-> 1216\u001b[1;33m               \u001b[0mtmp_logs\u001b[0m \u001b[1;33m=\u001b[0m \u001b[0mself\u001b[0m\u001b[1;33m.\u001b[0m\u001b[0mtrain_function\u001b[0m\u001b[1;33m(\u001b[0m\u001b[0miterator\u001b[0m\u001b[1;33m)\u001b[0m\u001b[1;33m\u001b[0m\u001b[1;33m\u001b[0m\u001b[0m\n\u001b[0m\u001b[0;32m   1217\u001b[0m               \u001b[1;32mif\u001b[0m \u001b[0mdata_handler\u001b[0m\u001b[1;33m.\u001b[0m\u001b[0mshould_sync\u001b[0m\u001b[1;33m:\u001b[0m\u001b[1;33m\u001b[0m\u001b[1;33m\u001b[0m\u001b[0m\n\u001b[0;32m   1218\u001b[0m                 \u001b[0mcontext\u001b[0m\u001b[1;33m.\u001b[0m\u001b[0masync_wait\u001b[0m\u001b[1;33m(\u001b[0m\u001b[1;33m)\u001b[0m\u001b[1;33m\u001b[0m\u001b[1;33m\u001b[0m\u001b[0m\n",
      "\u001b[1;32m~\\anaconda3\\lib\\site-packages\\tensorflow\\python\\util\\traceback_utils.py\u001b[0m in \u001b[0;36merror_handler\u001b[1;34m(*args, **kwargs)\u001b[0m\n\u001b[0;32m    148\u001b[0m     \u001b[0mfiltered_tb\u001b[0m \u001b[1;33m=\u001b[0m \u001b[1;32mNone\u001b[0m\u001b[1;33m\u001b[0m\u001b[1;33m\u001b[0m\u001b[0m\n\u001b[0;32m    149\u001b[0m     \u001b[1;32mtry\u001b[0m\u001b[1;33m:\u001b[0m\u001b[1;33m\u001b[0m\u001b[1;33m\u001b[0m\u001b[0m\n\u001b[1;32m--> 150\u001b[1;33m       \u001b[1;32mreturn\u001b[0m \u001b[0mfn\u001b[0m\u001b[1;33m(\u001b[0m\u001b[1;33m*\u001b[0m\u001b[0margs\u001b[0m\u001b[1;33m,\u001b[0m \u001b[1;33m**\u001b[0m\u001b[0mkwargs\u001b[0m\u001b[1;33m)\u001b[0m\u001b[1;33m\u001b[0m\u001b[1;33m\u001b[0m\u001b[0m\n\u001b[0m\u001b[0;32m    151\u001b[0m     \u001b[1;32mexcept\u001b[0m \u001b[0mException\u001b[0m \u001b[1;32mas\u001b[0m \u001b[0me\u001b[0m\u001b[1;33m:\u001b[0m\u001b[1;33m\u001b[0m\u001b[1;33m\u001b[0m\u001b[0m\n\u001b[0;32m    152\u001b[0m       \u001b[0mfiltered_tb\u001b[0m \u001b[1;33m=\u001b[0m \u001b[0m_process_traceback_frames\u001b[0m\u001b[1;33m(\u001b[0m\u001b[0me\u001b[0m\u001b[1;33m.\u001b[0m\u001b[0m__traceback__\u001b[0m\u001b[1;33m)\u001b[0m\u001b[1;33m\u001b[0m\u001b[1;33m\u001b[0m\u001b[0m\n",
      "\u001b[1;32m~\\anaconda3\\lib\\site-packages\\tensorflow\\python\\eager\\def_function.py\u001b[0m in \u001b[0;36m__call__\u001b[1;34m(self, *args, **kwds)\u001b[0m\n\u001b[0;32m    908\u001b[0m \u001b[1;33m\u001b[0m\u001b[0m\n\u001b[0;32m    909\u001b[0m       \u001b[1;32mwith\u001b[0m \u001b[0mOptionalXlaContext\u001b[0m\u001b[1;33m(\u001b[0m\u001b[0mself\u001b[0m\u001b[1;33m.\u001b[0m\u001b[0m_jit_compile\u001b[0m\u001b[1;33m)\u001b[0m\u001b[1;33m:\u001b[0m\u001b[1;33m\u001b[0m\u001b[1;33m\u001b[0m\u001b[0m\n\u001b[1;32m--> 910\u001b[1;33m         \u001b[0mresult\u001b[0m \u001b[1;33m=\u001b[0m \u001b[0mself\u001b[0m\u001b[1;33m.\u001b[0m\u001b[0m_call\u001b[0m\u001b[1;33m(\u001b[0m\u001b[1;33m*\u001b[0m\u001b[0margs\u001b[0m\u001b[1;33m,\u001b[0m \u001b[1;33m**\u001b[0m\u001b[0mkwds\u001b[0m\u001b[1;33m)\u001b[0m\u001b[1;33m\u001b[0m\u001b[1;33m\u001b[0m\u001b[0m\n\u001b[0m\u001b[0;32m    911\u001b[0m \u001b[1;33m\u001b[0m\u001b[0m\n\u001b[0;32m    912\u001b[0m       \u001b[0mnew_tracing_count\u001b[0m \u001b[1;33m=\u001b[0m \u001b[0mself\u001b[0m\u001b[1;33m.\u001b[0m\u001b[0mexperimental_get_tracing_count\u001b[0m\u001b[1;33m(\u001b[0m\u001b[1;33m)\u001b[0m\u001b[1;33m\u001b[0m\u001b[1;33m\u001b[0m\u001b[0m\n",
      "\u001b[1;32m~\\anaconda3\\lib\\site-packages\\tensorflow\\python\\eager\\def_function.py\u001b[0m in \u001b[0;36m_call\u001b[1;34m(self, *args, **kwds)\u001b[0m\n\u001b[0;32m    940\u001b[0m       \u001b[1;31m# In this case we have created variables on the first call, so we run the\u001b[0m\u001b[1;33m\u001b[0m\u001b[1;33m\u001b[0m\u001b[0m\n\u001b[0;32m    941\u001b[0m       \u001b[1;31m# defunned version which is guaranteed to never create variables.\u001b[0m\u001b[1;33m\u001b[0m\u001b[1;33m\u001b[0m\u001b[0m\n\u001b[1;32m--> 942\u001b[1;33m       \u001b[1;32mreturn\u001b[0m \u001b[0mself\u001b[0m\u001b[1;33m.\u001b[0m\u001b[0m_stateless_fn\u001b[0m\u001b[1;33m(\u001b[0m\u001b[1;33m*\u001b[0m\u001b[0margs\u001b[0m\u001b[1;33m,\u001b[0m \u001b[1;33m**\u001b[0m\u001b[0mkwds\u001b[0m\u001b[1;33m)\u001b[0m  \u001b[1;31m# pylint: disable=not-callable\u001b[0m\u001b[1;33m\u001b[0m\u001b[1;33m\u001b[0m\u001b[0m\n\u001b[0m\u001b[0;32m    943\u001b[0m     \u001b[1;32melif\u001b[0m \u001b[0mself\u001b[0m\u001b[1;33m.\u001b[0m\u001b[0m_stateful_fn\u001b[0m \u001b[1;32mis\u001b[0m \u001b[1;32mnot\u001b[0m \u001b[1;32mNone\u001b[0m\u001b[1;33m:\u001b[0m\u001b[1;33m\u001b[0m\u001b[1;33m\u001b[0m\u001b[0m\n\u001b[0;32m    944\u001b[0m       \u001b[1;31m# Release the lock early so that multiple threads can perform the call\u001b[0m\u001b[1;33m\u001b[0m\u001b[1;33m\u001b[0m\u001b[0m\n",
      "\u001b[1;32m~\\anaconda3\\lib\\site-packages\\tensorflow\\python\\eager\\function.py\u001b[0m in \u001b[0;36m__call__\u001b[1;34m(self, *args, **kwargs)\u001b[0m\n\u001b[0;32m   3128\u001b[0m       (graph_function,\n\u001b[0;32m   3129\u001b[0m        filtered_flat_args) = self._maybe_define_function(args, kwargs)\n\u001b[1;32m-> 3130\u001b[1;33m     return graph_function._call_flat(\n\u001b[0m\u001b[0;32m   3131\u001b[0m         filtered_flat_args, captured_inputs=graph_function.captured_inputs)  # pylint: disable=protected-access\n\u001b[0;32m   3132\u001b[0m \u001b[1;33m\u001b[0m\u001b[0m\n",
      "\u001b[1;32m~\\anaconda3\\lib\\site-packages\\tensorflow\\python\\eager\\function.py\u001b[0m in \u001b[0;36m_call_flat\u001b[1;34m(self, args, captured_inputs, cancellation_manager)\u001b[0m\n\u001b[0;32m   1957\u001b[0m         and executing_eagerly):\n\u001b[0;32m   1958\u001b[0m       \u001b[1;31m# No tape is watching; skip to running the function.\u001b[0m\u001b[1;33m\u001b[0m\u001b[1;33m\u001b[0m\u001b[0m\n\u001b[1;32m-> 1959\u001b[1;33m       return self._build_call_outputs(self._inference_function.call(\n\u001b[0m\u001b[0;32m   1960\u001b[0m           ctx, args, cancellation_manager=cancellation_manager))\n\u001b[0;32m   1961\u001b[0m     forward_backward = self._select_forward_and_backward_functions(\n",
      "\u001b[1;32m~\\anaconda3\\lib\\site-packages\\tensorflow\\python\\eager\\function.py\u001b[0m in \u001b[0;36mcall\u001b[1;34m(self, ctx, args, cancellation_manager)\u001b[0m\n\u001b[0;32m    596\u001b[0m       \u001b[1;32mwith\u001b[0m \u001b[0m_InterpolateFunctionError\u001b[0m\u001b[1;33m(\u001b[0m\u001b[0mself\u001b[0m\u001b[1;33m)\u001b[0m\u001b[1;33m:\u001b[0m\u001b[1;33m\u001b[0m\u001b[1;33m\u001b[0m\u001b[0m\n\u001b[0;32m    597\u001b[0m         \u001b[1;32mif\u001b[0m \u001b[0mcancellation_manager\u001b[0m \u001b[1;32mis\u001b[0m \u001b[1;32mNone\u001b[0m\u001b[1;33m:\u001b[0m\u001b[1;33m\u001b[0m\u001b[1;33m\u001b[0m\u001b[0m\n\u001b[1;32m--> 598\u001b[1;33m           outputs = execute.execute(\n\u001b[0m\u001b[0;32m    599\u001b[0m               \u001b[0mstr\u001b[0m\u001b[1;33m(\u001b[0m\u001b[0mself\u001b[0m\u001b[1;33m.\u001b[0m\u001b[0msignature\u001b[0m\u001b[1;33m.\u001b[0m\u001b[0mname\u001b[0m\u001b[1;33m)\u001b[0m\u001b[1;33m,\u001b[0m\u001b[1;33m\u001b[0m\u001b[1;33m\u001b[0m\u001b[0m\n\u001b[0;32m    600\u001b[0m               \u001b[0mnum_outputs\u001b[0m\u001b[1;33m=\u001b[0m\u001b[0mself\u001b[0m\u001b[1;33m.\u001b[0m\u001b[0m_num_outputs\u001b[0m\u001b[1;33m,\u001b[0m\u001b[1;33m\u001b[0m\u001b[1;33m\u001b[0m\u001b[0m\n",
      "\u001b[1;32m~\\anaconda3\\lib\\site-packages\\tensorflow\\python\\eager\\execute.py\u001b[0m in \u001b[0;36mquick_execute\u001b[1;34m(op_name, num_outputs, inputs, attrs, ctx, name)\u001b[0m\n\u001b[0;32m     56\u001b[0m   \u001b[1;32mtry\u001b[0m\u001b[1;33m:\u001b[0m\u001b[1;33m\u001b[0m\u001b[1;33m\u001b[0m\u001b[0m\n\u001b[0;32m     57\u001b[0m     \u001b[0mctx\u001b[0m\u001b[1;33m.\u001b[0m\u001b[0mensure_initialized\u001b[0m\u001b[1;33m(\u001b[0m\u001b[1;33m)\u001b[0m\u001b[1;33m\u001b[0m\u001b[1;33m\u001b[0m\u001b[0m\n\u001b[1;32m---> 58\u001b[1;33m     tensors = pywrap_tfe.TFE_Py_Execute(ctx._handle, device_name, op_name,\n\u001b[0m\u001b[0;32m     59\u001b[0m                                         inputs, attrs, num_outputs)\n\u001b[0;32m     60\u001b[0m   \u001b[1;32mexcept\u001b[0m \u001b[0mcore\u001b[0m\u001b[1;33m.\u001b[0m\u001b[0m_NotOkStatusException\u001b[0m \u001b[1;32mas\u001b[0m \u001b[0me\u001b[0m\u001b[1;33m:\u001b[0m\u001b[1;33m\u001b[0m\u001b[1;33m\u001b[0m\u001b[0m\n",
      "\u001b[1;31mKeyboardInterrupt\u001b[0m: "
     ]
    }
   ],
   "source": [
    "model.fit(X_train, y_train, epochs=1000, validation_split = 0.2, callbacks=[tb_callback])"
   ]
  },
  {
   "cell_type": "code",
   "execution_count": 26,
   "metadata": {},
   "outputs": [
    {
     "name": "stdout",
     "output_type": "stream",
     "text": [
      "Model: \"sequential\"\n",
      "_________________________________________________________________\n",
      " Layer (type)                Output Shape              Param #   \n",
      "=================================================================\n",
      " lstm (LSTM)                 (None, 30, 64)            442112    \n",
      "                                                                 \n",
      " lstm_1 (LSTM)               (None, 30, 128)           98816     \n",
      "                                                                 \n",
      " lstm_2 (LSTM)               (None, 64)                49408     \n",
      "                                                                 \n",
      " dense (Dense)               (None, 64)                4160      \n",
      "                                                                 \n",
      " dense_1 (Dense)             (None, 32)                2080      \n",
      "                                                                 \n",
      " dense_2 (Dense)             (None, 14)                462       \n",
      "                                                                 \n",
      "=================================================================\n",
      "Total params: 597,038\n",
      "Trainable params: 597,038\n",
      "Non-trainable params: 0\n",
      "_________________________________________________________________\n"
     ]
    }
   ],
   "source": [
    "model.summary()"
   ]
  },
  {
   "cell_type": "markdown",
   "metadata": {},
   "source": [
    "# 8. Make Predictions"
   ]
  },
  {
   "cell_type": "code",
   "execution_count": 27,
   "metadata": {},
   "outputs": [],
   "source": [
    "res = model.predict(X_test)"
   ]
  },
  {
   "cell_type": "code",
   "execution_count": 28,
   "metadata": {},
   "outputs": [
    {
     "data": {
      "text/plain": [
       "'Paiseh'"
      ]
     },
     "execution_count": 28,
     "metadata": {},
     "output_type": "execute_result"
    }
   ],
   "source": [
    "actions[np.argmax(res[4])]"
   ]
  },
  {
   "cell_type": "code",
   "execution_count": 29,
   "metadata": {},
   "outputs": [
    {
     "data": {
      "text/plain": [
       "'Paiseh'"
      ]
     },
     "execution_count": 29,
     "metadata": {},
     "output_type": "execute_result"
    }
   ],
   "source": [
    "actions[np.argmax(y_test[4])]"
   ]
  },
  {
   "cell_type": "markdown",
   "metadata": {},
   "source": [
    "# 9. Save Weights"
   ]
  },
  {
   "cell_type": "code",
   "execution_count": 30,
   "metadata": {},
   "outputs": [],
   "source": [
    "model.save('action.h5')"
   ]
  },
  {
   "cell_type": "code",
   "execution_count": 40,
   "metadata": {},
   "outputs": [],
   "source": [
    "del model"
   ]
  },
  {
   "cell_type": "code",
   "execution_count": 43,
   "metadata": {},
   "outputs": [],
   "source": [
    "model.load_weights('lstm.h5')"
   ]
  },
  {
   "cell_type": "markdown",
   "metadata": {},
   "source": [
    "# 10. Evaluation using Confusion Matrix and Accuracy"
   ]
  },
  {
   "cell_type": "code",
   "execution_count": 44,
   "metadata": {},
   "outputs": [],
   "source": [
    "from sklearn.metrics import multilabel_confusion_matrix, accuracy_score"
   ]
  },
  {
   "cell_type": "code",
   "execution_count": 45,
   "metadata": {},
   "outputs": [],
   "source": [
    "yhat = model.predict(X_test)"
   ]
  },
  {
   "cell_type": "code",
   "execution_count": 46,
   "metadata": {},
   "outputs": [],
   "source": [
    "ytrue = np.argmax(y_test, axis=1).tolist()\n",
    "yhat = np.argmax(yhat, axis=1).tolist()"
   ]
  },
  {
   "cell_type": "code",
   "execution_count": 47,
   "metadata": {},
   "outputs": [
    {
     "data": {
      "text/plain": [
       "array([[[162,   0],\n",
       "        [ 13,   0]],\n",
       "\n",
       "       [[163,   0],\n",
       "        [ 12,   0]],\n",
       "\n",
       "       [[162,   0],\n",
       "        [ 13,   0]],\n",
       "\n",
       "       [[160,   1],\n",
       "        [ 14,   0]],\n",
       "\n",
       "       [[165,   0],\n",
       "        [ 10,   0]],\n",
       "\n",
       "       [[121,  42],\n",
       "        [  8,   4]],\n",
       "\n",
       "       [[166,   0],\n",
       "        [  9,   0]],\n",
       "\n",
       "       [[152,  12],\n",
       "        [ 11,   0]],\n",
       "\n",
       "       [[164,   1],\n",
       "        [ 10,   0]],\n",
       "\n",
       "       [[155,   4],\n",
       "        [ 16,   0]],\n",
       "\n",
       "       [[150,  10],\n",
       "        [ 15,   0]],\n",
       "\n",
       "       [[ 74,  93],\n",
       "        [  3,   5]],\n",
       "\n",
       "       [[155,   3],\n",
       "        [ 17,   0]],\n",
       "\n",
       "       [[160,   0],\n",
       "        [ 15,   0]]], dtype=int64)"
      ]
     },
     "execution_count": 47,
     "metadata": {},
     "output_type": "execute_result"
    }
   ],
   "source": [
    "multilabel_confusion_matrix(ytrue, yhat)"
   ]
  },
  {
   "cell_type": "code",
   "execution_count": 48,
   "metadata": {},
   "outputs": [
    {
     "data": {
      "text/plain": [
       "0.05142857142857143"
      ]
     },
     "execution_count": 48,
     "metadata": {},
     "output_type": "execute_result"
    }
   ],
   "source": [
    "accuracy_score(ytrue, yhat)"
   ]
  },
  {
   "cell_type": "markdown",
   "metadata": {},
   "source": [
    "# 11. Test in Real Time"
   ]
  },
  {
   "cell_type": "code",
   "execution_count": 36,
   "metadata": {},
   "outputs": [],
   "source": [
    "from scipy import stats"
   ]
  },
  {
   "cell_type": "code",
   "execution_count": 37,
   "metadata": {},
   "outputs": [],
   "source": [
    "colors = [(245,117,16), (117,245,16), (16,117,245)]\n",
    "def prob_viz(res, actions, input_frame, colors):\n",
    "    output_frame = input_frame.copy()\n",
    "    for num, prob in enumerate(res):\n",
    "        cv2.rectangle(output_frame, (0,60+num*40), (int(prob*100), 90+num*40), colors[num], -1)\n",
    "        cv2.putText(output_frame, actions[num], (0, 85+num*40), cv2.FONT_HERSHEY_SIMPLEX, 1, (255,255,255), 2, cv2.LINE_AA)\n",
    "        \n",
    "    return output_frame"
   ]
  },
  {
   "cell_type": "code",
   "execution_count": 39,
   "metadata": {},
   "outputs": [
    {
     "ename": "NameError",
     "evalue": "name 'image' is not defined",
     "output_type": "error",
     "traceback": [
      "\u001b[1;31m---------------------------------------------------------------------------\u001b[0m",
      "\u001b[1;31mNameError\u001b[0m                                 Traceback (most recent call last)",
      "\u001b[1;32m~\\AppData\\Local\\Temp/ipykernel_32576/104962489.py\u001b[0m in \u001b[0;36m<module>\u001b[1;34m\u001b[0m\n\u001b[0;32m      1\u001b[0m \u001b[0mplt\u001b[0m\u001b[1;33m.\u001b[0m\u001b[0mfigure\u001b[0m\u001b[1;33m(\u001b[0m\u001b[0mfigsize\u001b[0m\u001b[1;33m=\u001b[0m\u001b[1;33m(\u001b[0m\u001b[1;36m18\u001b[0m\u001b[1;33m,\u001b[0m\u001b[1;36m18\u001b[0m\u001b[1;33m)\u001b[0m\u001b[1;33m)\u001b[0m\u001b[1;33m\u001b[0m\u001b[1;33m\u001b[0m\u001b[0m\n\u001b[1;32m----> 2\u001b[1;33m \u001b[0mplt\u001b[0m\u001b[1;33m.\u001b[0m\u001b[0mimshow\u001b[0m\u001b[1;33m(\u001b[0m\u001b[0mprob_viz\u001b[0m\u001b[1;33m(\u001b[0m\u001b[0mres\u001b[0m\u001b[1;33m,\u001b[0m \u001b[0mactions\u001b[0m\u001b[1;33m,\u001b[0m \u001b[0mimage\u001b[0m\u001b[1;33m,\u001b[0m \u001b[0mcolors\u001b[0m\u001b[1;33m)\u001b[0m\u001b[1;33m)\u001b[0m\u001b[1;33m\u001b[0m\u001b[1;33m\u001b[0m\u001b[0m\n\u001b[0m",
      "\u001b[1;31mNameError\u001b[0m: name 'image' is not defined"
     ]
    },
    {
     "data": {
      "text/plain": [
       "<Figure size 1296x1296 with 0 Axes>"
      ]
     },
     "metadata": {},
     "output_type": "display_data"
    }
   ],
   "source": [
    "plt.figure(figsize=(18,18))\n",
    "plt.imshow(prob_viz(res, actions, image, colors))"
   ]
  },
  {
   "cell_type": "code",
   "execution_count": 38,
   "metadata": {},
   "outputs": [
    {
     "name": "stdout",
     "output_type": "stream",
     "text": [
      "<class 'mediapipe.python.solution_base.SolutionOutputs'>\n",
      "<class 'mediapipe.python.solution_base.SolutionOutputs'>\n",
      "<class 'mediapipe.python.solution_base.SolutionOutputs'>\n",
      "<class 'mediapipe.python.solution_base.SolutionOutputs'>\n",
      "<class 'mediapipe.python.solution_base.SolutionOutputs'>\n",
      "<class 'mediapipe.python.solution_base.SolutionOutputs'>\n",
      "<class 'mediapipe.python.solution_base.SolutionOutputs'>\n",
      "<class 'mediapipe.python.solution_base.SolutionOutputs'>\n",
      "<class 'mediapipe.python.solution_base.SolutionOutputs'>\n",
      "<class 'mediapipe.python.solution_base.SolutionOutputs'>\n",
      "<class 'mediapipe.python.solution_base.SolutionOutputs'>\n",
      "<class 'mediapipe.python.solution_base.SolutionOutputs'>\n",
      "<class 'mediapipe.python.solution_base.SolutionOutputs'>\n",
      "<class 'mediapipe.python.solution_base.SolutionOutputs'>\n",
      "<class 'mediapipe.python.solution_base.SolutionOutputs'>\n",
      "<class 'mediapipe.python.solution_base.SolutionOutputs'>\n",
      "<class 'mediapipe.python.solution_base.SolutionOutputs'>\n",
      "<class 'mediapipe.python.solution_base.SolutionOutputs'>\n",
      "<class 'mediapipe.python.solution_base.SolutionOutputs'>\n",
      "<class 'mediapipe.python.solution_base.SolutionOutputs'>\n",
      "<class 'mediapipe.python.solution_base.SolutionOutputs'>\n",
      "<class 'mediapipe.python.solution_base.SolutionOutputs'>\n",
      "<class 'mediapipe.python.solution_base.SolutionOutputs'>\n",
      "<class 'mediapipe.python.solution_base.SolutionOutputs'>\n",
      "<class 'mediapipe.python.solution_base.SolutionOutputs'>\n",
      "<class 'mediapipe.python.solution_base.SolutionOutputs'>\n",
      "<class 'mediapipe.python.solution_base.SolutionOutputs'>\n",
      "<class 'mediapipe.python.solution_base.SolutionOutputs'>\n",
      "<class 'mediapipe.python.solution_base.SolutionOutputs'>\n",
      "<class 'mediapipe.python.solution_base.SolutionOutputs'>\n",
      "Paiseh\n",
      "<class 'mediapipe.python.solution_base.SolutionOutputs'>\n",
      "Paiseh\n",
      "<class 'mediapipe.python.solution_base.SolutionOutputs'>\n",
      "Hi\n",
      "<class 'mediapipe.python.solution_base.SolutionOutputs'>\n",
      "Hi\n",
      "<class 'mediapipe.python.solution_base.SolutionOutputs'>\n",
      "Paiseh\n",
      "<class 'mediapipe.python.solution_base.SolutionOutputs'>\n",
      "Paiseh\n",
      "<class 'mediapipe.python.solution_base.SolutionOutputs'>\n",
      "Paiseh\n",
      "<class 'mediapipe.python.solution_base.SolutionOutputs'>\n",
      "Paiseh\n",
      "<class 'mediapipe.python.solution_base.SolutionOutputs'>\n",
      "Paiseh\n",
      "<class 'mediapipe.python.solution_base.SolutionOutputs'>\n",
      "Paiseh\n",
      "<class 'mediapipe.python.solution_base.SolutionOutputs'>\n",
      "Paiseh\n",
      "<class 'mediapipe.python.solution_base.SolutionOutputs'>\n",
      "I am\n",
      "<class 'mediapipe.python.solution_base.SolutionOutputs'>\n",
      "I am\n",
      "<class 'mediapipe.python.solution_base.SolutionOutputs'>\n",
      "Machine\n",
      "<class 'mediapipe.python.solution_base.SolutionOutputs'>\n",
      "Machine\n",
      "<class 'mediapipe.python.solution_base.SolutionOutputs'>\n",
      "Can\n",
      "<class 'mediapipe.python.solution_base.SolutionOutputs'>\n",
      "Help\n",
      "<class 'mediapipe.python.solution_base.SolutionOutputs'>\n",
      "From\n",
      "<class 'mediapipe.python.solution_base.SolutionOutputs'>\n",
      "Translate\n",
      "<class 'mediapipe.python.solution_base.SolutionOutputs'>\n",
      "Translate\n",
      "<class 'mediapipe.python.solution_base.SolutionOutputs'>\n",
      "Translate\n",
      "<class 'mediapipe.python.solution_base.SolutionOutputs'>\n",
      "Learning\n",
      "<class 'mediapipe.python.solution_base.SolutionOutputs'>\n",
      "Learning\n",
      "<class 'mediapipe.python.solution_base.SolutionOutputs'>\n",
      "Learning\n",
      "<class 'mediapipe.python.solution_base.SolutionOutputs'>\n",
      "Translate\n",
      "<class 'mediapipe.python.solution_base.SolutionOutputs'>\n",
      "Translate\n"
     ]
    }
   ],
   "source": [
    "# 1. New detection variables\n",
    "sequence = []\n",
    "sentence = []\n",
    "predictions = []\n",
    "threshold = 0.8\n",
    "\n",
    "cap = cv2.VideoCapture(0)\n",
    "# Set mediapipe model \n",
    "with mp_holistic.Holistic(min_detection_confidence=0.5, min_tracking_confidence=0.5) as holistic:\n",
    "    while cap.isOpened():\n",
    "\n",
    "        # Read feed\n",
    "        ret, frame = cap.read()\n",
    "\n",
    "        # Make detections\n",
    "        image, results = mediapipe_detection(frame, holistic)\n",
    "        print(results)\n",
    "        \n",
    "        # Draw landmarks\n",
    "        draw_styled_landmarks(image, results)\n",
    "        \n",
    "        # 2. Prediction logic\n",
    "        keypoints = extract_keypoints(results)\n",
    "        sequence.append(keypoints)\n",
    "        sequence = sequence[-30:]\n",
    "        \n",
    "        if len(sequence) == 30:\n",
    "            res = model.predict(np.expand_dims(sequence, axis=0))[0]\n",
    "            print(actions[np.argmax(res)])\n",
    "            predictions.append(np.argmax(res))\n",
    "            \n",
    "            \n",
    "        #3. Viz logic\n",
    "            if np.unique(predictions[-10:])[0]==np.argmax(res): \n",
    "                if res[np.argmax(res)] > threshold: \n",
    "                    \n",
    "                    if len(sentence) > 0: \n",
    "                        if actions[np.argmax(res)] != sentence[-1]:\n",
    "                            sentence.append(actions[np.argmax(res)])\n",
    "                    else:\n",
    "                        sentence.append(actions[np.argmax(res)])\n",
    "\n",
    "            if len(sentence) > 5: \n",
    "                sentence = sentence[-5:]\n",
    "\n",
    "            # Viz probabilities\n",
    "            #image = prob_viz(res, actions, image, colors)\n",
    "            \n",
    "        cv2.rectangle(image, (0,0), (640, 40), (245, 117, 16), -1)\n",
    "        cv2.putText(image, ' '.join(sentence), (3,30), \n",
    "                       cv2.FONT_HERSHEY_SIMPLEX, 1, (255, 255, 255), 2, cv2.LINE_AA)\n",
    "        \n",
    "        # Show to screen\n",
    "        cv2.imshow('OpenCV Feed', image)\n",
    "\n",
    "        # Break gracefully\n",
    "        if cv2.waitKey(10) & 0xFF == ord('q'):\n",
    "            break\n",
    "    cap.release()\n",
    "    cv2.destroyAllWindows()"
   ]
  },
  {
   "cell_type": "code",
   "execution_count": null,
   "metadata": {},
   "outputs": [],
   "source": []
  },
  {
   "cell_type": "code",
   "execution_count": null,
   "metadata": {},
   "outputs": [],
   "source": []
  }
 ],
 "metadata": {
  "kernelspec": {
   "display_name": "Python 3 (ipykernel)",
   "language": "python",
   "name": "python3"
  },
  "language_info": {
   "codemirror_mode": {
    "name": "ipython",
    "version": 3
   },
   "file_extension": ".py",
   "mimetype": "text/x-python",
   "name": "python",
   "nbconvert_exporter": "python",
   "pygments_lexer": "ipython3",
   "version": "3.9.7"
  }
 },
 "nbformat": 4,
 "nbformat_minor": 2
}
